{
 "cells": [
  {
   "cell_type": "markdown",
   "id": "6293cc50",
   "metadata": {},
   "source": [
    "# 100 numpy exercises\n",
    "\n",
    "This is a collection of exercises that have been collected in the numpy mailing list, on stack overflow\n",
    "and in the numpy documentation. The goal of this collection is to offer a quick reference for both old\n",
    "and new users but also to provide a set of exercises for those who teach."
   ]
  },
  {
   "cell_type": "markdown",
   "id": "a167c052",
   "metadata": {},
   "source": [
    "File automatically generated. See the documentation to update questions/answers/hints programmatically."
   ]
  },
  {
   "cell_type": "markdown",
   "id": "3c1222ff",
   "metadata": {},
   "source": [
    "#### 1. Import the numpy package under the name `np` "
   ]
  },
  {
   "cell_type": "code",
   "execution_count": 2,
   "id": "f52e6a0b",
   "metadata": {},
   "outputs": [],
   "source": [
    "import numpy as np"
   ]
  },
  {
   "cell_type": "markdown",
   "id": "9d9f4753",
   "metadata": {},
   "source": [
    "#### 2. Print the numpy version and the configuration"
   ]
  },
  {
   "cell_type": "code",
   "execution_count": 4,
   "id": "b7fa5fa1",
   "metadata": {},
   "outputs": [
    {
     "name": "stdout",
     "output_type": "stream",
     "text": [
      "1.26.4\n",
      "{\n",
      "  \"Compilers\": {\n",
      "    \"c\": {\n",
      "      \"name\": \"msvc\",\n",
      "      \"linker\": \"link\",\n",
      "      \"version\": \"19.29.30153\",\n",
      "      \"commands\": \"cl\"\n",
      "    },\n",
      "    \"cython\": {\n",
      "      \"name\": \"cython\",\n",
      "      \"linker\": \"cython\",\n",
      "      \"version\": \"3.0.8\",\n",
      "      \"commands\": \"cython\"\n",
      "    },\n",
      "    \"c++\": {\n",
      "      \"name\": \"msvc\",\n",
      "      \"linker\": \"link\",\n",
      "      \"version\": \"19.29.30153\",\n",
      "      \"commands\": \"cl\"\n",
      "    }\n",
      "  },\n",
      "  \"Machine Information\": {\n",
      "    \"host\": {\n",
      "      \"cpu\": \"x86_64\",\n",
      "      \"family\": \"x86_64\",\n",
      "      \"endian\": \"little\",\n",
      "      \"system\": \"windows\"\n",
      "    },\n",
      "    \"build\": {\n",
      "      \"cpu\": \"x86_64\",\n",
      "      \"family\": \"x86_64\",\n",
      "      \"endian\": \"little\",\n",
      "      \"system\": \"windows\"\n",
      "    }\n",
      "  },\n",
      "  \"Build Dependencies\": {\n",
      "    \"blas\": {\n",
      "      \"name\": \"openblas64\",\n",
      "      \"found\": true,\n",
      "      \"version\": \"0.3.23.dev\",\n",
      "      \"detection method\": \"pkgconfig\",\n",
      "      \"include directory\": \"/c/opt/64/include\",\n",
      "      \"lib directory\": \"/c/opt/64/lib\",\n",
      "      \"openblas configuration\": \"USE_64BITINT=1 DYNAMIC_ARCH=1 DYNAMIC_OLDER= NO_CBLAS= NO_LAPACK= NO_LAPACKE= NO_AFFINITY=1 USE_OPENMP= SKYLAKEX MAX_THREADS=2\",\n",
      "      \"pc file directory\": \"C:/opt/64/lib/pkgconfig\"\n",
      "    },\n",
      "    \"lapack\": {\n",
      "      \"name\": \"dep2023743449504\",\n",
      "      \"found\": true,\n",
      "      \"version\": \"1.26.4\",\n",
      "      \"detection method\": \"internal\",\n",
      "      \"include directory\": \"unknown\",\n",
      "      \"lib directory\": \"unknown\",\n",
      "      \"openblas configuration\": \"unknown\",\n",
      "      \"pc file directory\": \"unknown\"\n",
      "    }\n",
      "  },\n",
      "  \"Python Information\": {\n",
      "    \"path\": \"C:\\\\Users\\\\runneradmin\\\\AppData\\\\Local\\\\Temp\\\\cibw-run-6u75xfvp\\\\cp39-win_amd64\\\\build\\\\venv\\\\Scripts\\\\python.exe\",\n",
      "    \"version\": \"3.9\"\n",
      "  },\n",
      "  \"SIMD Extensions\": {\n",
      "    \"baseline\": [\n",
      "      \"SSE\",\n",
      "      \"SSE2\",\n",
      "      \"SSE3\"\n",
      "    ],\n",
      "    \"found\": [\n",
      "      \"SSSE3\",\n",
      "      \"SSE41\",\n",
      "      \"POPCNT\",\n",
      "      \"SSE42\",\n",
      "      \"AVX\",\n",
      "      \"F16C\",\n",
      "      \"FMA3\",\n",
      "      \"AVX2\"\n",
      "    ],\n",
      "    \"not found\": [\n",
      "      \"AVX512F\",\n",
      "      \"AVX512CD\",\n",
      "      \"AVX512_SKX\",\n",
      "      \"AVX512_CLX\",\n",
      "      \"AVX512_CNL\",\n",
      "      \"AVX512_ICL\"\n",
      "    ]\n",
      "  }\n",
      "}\n",
      "None\n"
     ]
    },
    {
     "name": "stderr",
     "output_type": "stream",
     "text": [
      "c:\\Users\\PMLS\\anaconda3\\envs\\traning_env\\lib\\site-packages\\numpy\\__config__.py:155: UserWarning: Install `pyyaml` for better output\n",
      "  warnings.warn(\"Install `pyyaml` for better output\", stacklevel=1)\n"
     ]
    }
   ],
   "source": [
    "print( np.__version__)\n",
    "print(np.show_config())"
   ]
  },
  {
   "cell_type": "markdown",
   "id": "3e4c23c6",
   "metadata": {},
   "source": [
    "#### 3. Create a null vector of size 10"
   ]
  },
  {
   "cell_type": "code",
   "execution_count": 6,
   "id": "083c5c46",
   "metadata": {},
   "outputs": [
    {
     "name": "stdout",
     "output_type": "stream",
     "text": [
      "[0. 0. 0. 0. 0. 0. 0. 0. 0. 0.]\n"
     ]
    }
   ],
   "source": [
    "v = np.zeros(10)\n",
    "print(v)"
   ]
  },
  {
   "cell_type": "markdown",
   "id": "c38bbe82",
   "metadata": {},
   "source": [
    "#### 4. How to find the memory size of any array "
   ]
  },
  {
   "cell_type": "code",
   "execution_count": 38,
   "id": "02b04021",
   "metadata": {},
   "outputs": [
    {
     "name": "stdout",
     "output_type": "stream",
     "text": [
      "Memory size of numpy array: 12\n"
     ]
    }
   ],
   "source": [
    "v = np.array([100, 20, 34])\n",
    "print(\"Memory size of numpy array:\",v.size * v.itemsize) \n",
    "# v.size will get the size of array and its multiplied with the size of one element to get total memory"
   ]
  },
  {
   "cell_type": "markdown",
   "id": "67f893d4",
   "metadata": {},
   "source": [
    "#### 5. How to get the documentation of the numpy add function from the command line?"
   ]
  },
  {
   "cell_type": "code",
   "execution_count": 9,
   "id": "40e6b70d",
   "metadata": {},
   "outputs": [
    {
     "name": "stdout",
     "output_type": "stream",
     "text": [
      "Help on ufunc:\n",
      "\n",
      "add = <ufunc 'add'>\n",
      "    add(x1, x2, /, out=None, *, where=True, casting='same_kind', order='K', dtype=None, subok=True[, signature, extobj])\n",
      "    \n",
      "    Add arguments element-wise.\n",
      "    \n",
      "    Parameters\n",
      "    ----------\n",
      "    x1, x2 : array_like\n",
      "        The arrays to be added.\n",
      "        If ``x1.shape != x2.shape``, they must be broadcastable to a common\n",
      "        shape (which becomes the shape of the output).\n",
      "    out : ndarray, None, or tuple of ndarray and None, optional\n",
      "        A location into which the result is stored. If provided, it must have\n",
      "        a shape that the inputs broadcast to. If not provided or None,\n",
      "        a freshly-allocated array is returned. A tuple (possible only as a\n",
      "        keyword argument) must have length equal to the number of outputs.\n",
      "    where : array_like, optional\n",
      "        This condition is broadcast over the input. At locations where the\n",
      "        condition is True, the `out` array will be set to the ufunc result.\n",
      "        Elsewhere, the `out` array will retain its original value.\n",
      "        Note that if an uninitialized `out` array is created via the default\n",
      "        ``out=None``, locations within it where the condition is False will\n",
      "        remain uninitialized.\n",
      "    **kwargs\n",
      "        For other keyword-only arguments, see the\n",
      "        :ref:`ufunc docs <ufuncs.kwargs>`.\n",
      "    \n",
      "    Returns\n",
      "    -------\n",
      "    add : ndarray or scalar\n",
      "        The sum of `x1` and `x2`, element-wise.\n",
      "        This is a scalar if both `x1` and `x2` are scalars.\n",
      "    \n",
      "    Notes\n",
      "    -----\n",
      "    Equivalent to `x1` + `x2` in terms of array broadcasting.\n",
      "    \n",
      "    Examples\n",
      "    --------\n",
      "    >>> np.add(1.0, 4.0)\n",
      "    5.0\n",
      "    >>> x1 = np.arange(9.0).reshape((3, 3))\n",
      "    >>> x2 = np.arange(3.0)\n",
      "    >>> np.add(x1, x2)\n",
      "    array([[  0.,   2.,   4.],\n",
      "           [  3.,   5.,   7.],\n",
      "           [  6.,   8.,  10.]])\n",
      "    \n",
      "    The ``+`` operator can be used as a shorthand for ``np.add`` on ndarrays.\n",
      "    \n",
      "    >>> x1 = np.arange(9.0).reshape((3, 3))\n",
      "    >>> x2 = np.arange(3.0)\n",
      "    >>> x1 + x2\n",
      "    array([[ 0.,  2.,  4.],\n",
      "           [ 3.,  5.,  7.],\n",
      "           [ 6.,  8., 10.]])\n",
      "\n"
     ]
    }
   ],
   "source": [
    "help(np.add) # to get documentation\n",
    "\n",
    "# to do so in command line:\n",
    "\"\"\"\n",
    "first open cmd prompt, then activate your environment, then launch python:\n",
    "\n",
    "conda activate traning_env\n",
    "python\n",
    "import numpy as np\n",
    "help(np.add)\n",
    "\n",
    "\"\"\""
   ]
  },
  {
   "cell_type": "markdown",
   "id": "e0c739c6",
   "metadata": {},
   "source": [
    "#### 6. Create a null vector of size 10 but the fifth value which is 1"
   ]
  },
  {
   "cell_type": "code",
   "execution_count": 10,
   "id": "bcceacf7",
   "metadata": {},
   "outputs": [
    {
     "name": "stdout",
     "output_type": "stream",
     "text": [
      "[0. 0. 0. 0. 1. 0. 0. 0. 0. 0.]\n"
     ]
    }
   ],
   "source": [
    "arr = np.zeros(10)\n",
    "arr[4] = 1\n",
    "print(arr)"
   ]
  },
  {
   "cell_type": "markdown",
   "id": "fbebedab",
   "metadata": {},
   "source": [
    "#### 7. Create a vector with values ranging from 10 to 49"
   ]
  },
  {
   "cell_type": "code",
   "execution_count": 11,
   "id": "3d117d54",
   "metadata": {},
   "outputs": [
    {
     "name": "stdout",
     "output_type": "stream",
     "text": [
      "[10 11 12 13 14 15 16 17 18 19 20 21 22 23 24 25 26 27 28 29 30 31 32 33\n",
      " 34 35 36 37 38 39 40 41 42 43 44 45 46 47 48 49]\n"
     ]
    }
   ],
   "source": [
    "# np.arange(start, stop) is used to create an array witih a specific range\n",
    "\n",
    "arr = np.arange(10,50)\n",
    "print(arr)"
   ]
  },
  {
   "cell_type": "markdown",
   "id": "ad0bff02",
   "metadata": {},
   "source": [
    "#### 8. Reverse a vector (first element becomes last)"
   ]
  },
  {
   "cell_type": "code",
   "execution_count": 12,
   "id": "22d23470",
   "metadata": {},
   "outputs": [
    {
     "name": "stdout",
     "output_type": "stream",
     "text": [
      "[ 34  20 100]\n"
     ]
    }
   ],
   "source": [
    "v = np.array([100, 20, 34]) \n",
    "print(v[::-1])"
   ]
  },
  {
   "cell_type": "markdown",
   "id": "9f59d7e1",
   "metadata": {},
   "source": [
    "#### 9. Create a 3x3 matrix with values ranging from 0 to 8"
   ]
  },
  {
   "cell_type": "code",
   "execution_count": 13,
   "id": "7449e82d",
   "metadata": {},
   "outputs": [
    {
     "name": "stdout",
     "output_type": "stream",
     "text": [
      "[[0 1 2]\n",
      " [3 4 5]\n",
      " [6 7 8]]\n"
     ]
    }
   ],
   "source": [
    "arr = np.arange(9).reshape(3,3)\n",
    "print(arr)"
   ]
  },
  {
   "cell_type": "markdown",
   "id": "f374c4cf",
   "metadata": {},
   "source": [
    "#### 10. Find indices of non-zero elements from [1,2,0,0,4,0] "
   ]
  },
  {
   "cell_type": "code",
   "execution_count": 15,
   "id": "1a84bed8",
   "metadata": {},
   "outputs": [
    {
     "name": "stdout",
     "output_type": "stream",
     "text": [
      "(array([0, 1, 4], dtype=int64),)\n"
     ]
    }
   ],
   "source": [
    "arr = np.array([1,2,0,0,4,0])\n",
    "\n",
    "print(np.nonzero(arr)) # to get the index of non zero elements"
   ]
  },
  {
   "cell_type": "markdown",
   "id": "9c4707f5",
   "metadata": {},
   "source": [
    "#### 11. Create a 3x3 identity matrix"
   ]
  },
  {
   "cell_type": "code",
   "execution_count": 17,
   "id": "29dc1fd3",
   "metadata": {},
   "outputs": [
    {
     "name": "stdout",
     "output_type": "stream",
     "text": [
      "[[1. 0. 0.]\n",
      " [0. 1. 0.]\n",
      " [0. 0. 1.]]\n"
     ]
    }
   ],
   "source": [
    "ThreeD = np.eye(3)\n",
    "print(ThreeD)"
   ]
  },
  {
   "cell_type": "markdown",
   "id": "3bac294a",
   "metadata": {},
   "source": [
    "#### 12. Create a 3x3x3 array with random values"
   ]
  },
  {
   "cell_type": "code",
   "execution_count": 20,
   "id": "eadfae67",
   "metadata": {},
   "outputs": [
    {
     "name": "stdout",
     "output_type": "stream",
     "text": [
      "[[[0.12231791 0.83086794 0.93044118]\n",
      "  [0.72725649 0.68269459 0.50978986]\n",
      "  [0.61410219 0.62392357 0.84997682]]\n",
      "\n",
      " [[0.37050173 0.56174642 0.16406385]\n",
      "  [0.30529543 0.8891538  0.62736318]\n",
      "  [0.6083279  0.7019926  0.28338117]]\n",
      "\n",
      " [[0.31730959 0.45783984 0.13963365]\n",
      "  [0.46463085 0.43759358 0.44768887]\n",
      "  [0.05398023 0.18449129 0.54510868]]]\n"
     ]
    }
   ],
   "source": [
    "randarr = np.random.random((3,3,3))\n",
    "print(randarr)"
   ]
  },
  {
   "cell_type": "markdown",
   "id": "466c2989",
   "metadata": {},
   "source": [
    "#### 13. Create a 10x10 array with random values and find the minimum and maximum values"
   ]
  },
  {
   "cell_type": "code",
   "execution_count": 23,
   "id": "9a74dbfc",
   "metadata": {},
   "outputs": [
    {
     "name": "stdout",
     "output_type": "stream",
     "text": [
      "0.013367416729199944\n",
      "0.9954249248667094\n"
     ]
    }
   ],
   "source": [
    "arr = np.random.random((10,10))\n",
    "print(np.min(arr))\n",
    "print(np.max(arr))"
   ]
  },
  {
   "cell_type": "markdown",
   "id": "53a8edb2",
   "metadata": {},
   "source": [
    "#### 14. Create a random vector of size 30 and find the mean value"
   ]
  },
  {
   "cell_type": "code",
   "execution_count": 24,
   "id": "6691530b",
   "metadata": {},
   "outputs": [
    {
     "name": "stdout",
     "output_type": "stream",
     "text": [
      "0.5615864602725175\n"
     ]
    }
   ],
   "source": [
    "arr = np.random.random(30)\n",
    "print(np.mean(arr))"
   ]
  },
  {
   "cell_type": "markdown",
   "id": "cbaad31c",
   "metadata": {},
   "source": [
    "#### 15. Create a 2d array with 1 on the border and 0 inside"
   ]
  },
  {
   "cell_type": "code",
   "execution_count": 29,
   "id": "ad8308e3",
   "metadata": {},
   "outputs": [
    {
     "name": "stdout",
     "output_type": "stream",
     "text": [
      "[[1. 1. 1. 1. 1. 1. 1. 1. 1. 1.]\n",
      " [1. 1. 1. 1. 1. 1. 1. 1. 1. 1.]\n",
      " [1. 1. 1. 1. 1. 1. 1. 1. 1. 1.]\n",
      " [1. 1. 1. 1. 1. 1. 1. 1. 1. 1.]\n",
      " [1. 1. 1. 1. 1. 1. 1. 1. 1. 1.]\n",
      " [1. 1. 1. 1. 1. 1. 1. 1. 1. 1.]\n",
      " [1. 1. 1. 1. 1. 1. 1. 1. 1. 1.]\n",
      " [1. 1. 1. 1. 1. 1. 1. 1. 1. 1.]\n",
      " [1. 1. 1. 1. 1. 1. 1. 1. 1. 1.]\n",
      " [1. 1. 1. 1. 1. 1. 1. 1. 1. 1.]]\n",
      "\n",
      "[[1. 1. 1. 1. 1. 1. 1. 1. 1. 1.]\n",
      " [1. 0. 0. 0. 0. 0. 0. 0. 0. 1.]\n",
      " [1. 0. 0. 0. 0. 0. 0. 0. 0. 1.]\n",
      " [1. 0. 0. 0. 0. 0. 0. 0. 0. 1.]\n",
      " [1. 0. 0. 0. 0. 0. 0. 0. 0. 1.]\n",
      " [1. 0. 0. 0. 0. 0. 0. 0. 0. 1.]\n",
      " [1. 0. 0. 0. 0. 0. 0. 0. 0. 1.]\n",
      " [1. 0. 0. 0. 0. 0. 0. 0. 0. 1.]\n",
      " [1. 0. 0. 0. 0. 0. 0. 0. 0. 1.]\n",
      " [1. 1. 1. 1. 1. 1. 1. 1. 1. 1.]]\n"
     ]
    }
   ],
   "source": [
    "arr = np.ones((10,10))\n",
    "print(arr)\n",
    "print()\n",
    "arr[1:-1,1:-1] = 0   # from 1st to 9th row and 1st to 9th column (-1 is not included)\n",
    "print(arr)"
   ]
  },
  {
   "cell_type": "markdown",
   "id": "4d746367",
   "metadata": {},
   "source": [
    "```\n",
    "[[1. 1. 1. 1. 1. 1. 1. 1. 1. 1.]\n",
    " [1. 0. 0. 0. 0. 0. 0. 0. 0. 1.]\n",
    " [1. 0. 0. 0. 0. 0. 0. 0. 0. 1.]\n",
    " [1. 0. 0. 0. 0. 0. 0. 0. 0. 1.]\n",
    " [1. 0. 0. 0. 0. 0. 0. 0. 0. 1.]\n",
    " [1. 0. 0. 0. 0. 0. 0. 0. 0. 1.]\n",
    " [1. 0. 0. 0. 0. 0. 0. 0. 0. 1.]\n",
    " [1. 0. 0. 0. 0. 0. 0. 0. 0. 1.]\n",
    " [1. 0. 0. 0. 0. 0. 0. 0. 0. 1.]\n",
    " [1. 1. 1. 1. 1. 1. 1. 1. 1. 1.]]\n",
    "```"
   ]
  },
  {
   "cell_type": "markdown",
   "id": "c5ecc267",
   "metadata": {},
   "source": [
    "#### 16. How to add a border (filled with 0's) around an existing array?"
   ]
  },
  {
   "cell_type": "code",
   "execution_count": 32,
   "id": "9d5c78c4",
   "metadata": {},
   "outputs": [
    {
     "data": {
      "text/plain": [
       "array([[0., 0., 0., 0., 0., 0., 0.],\n",
       "       [0., 1., 1., 1., 1., 1., 0.],\n",
       "       [0., 1., 1., 1., 1., 1., 0.],\n",
       "       [0., 1., 1., 1., 1., 1., 0.],\n",
       "       [0., 1., 1., 1., 1., 1., 0.],\n",
       "       [0., 1., 1., 1., 1., 1., 0.],\n",
       "       [0., 0., 0., 0., 0., 0., 0.]])"
      ]
     },
     "execution_count": 32,
     "metadata": {},
     "output_type": "execute_result"
    }
   ],
   "source": [
    "arr = np.ones((5,5))\n",
    "arr = np.pad(arr, pad_width=1, mode='constant', constant_values=0) # mode = constant is used to fill the array with a specific value\n",
    "arr"
   ]
  },
  {
   "cell_type": "markdown",
   "id": "ef909b72",
   "metadata": {},
   "source": [
    "#### 17. What is the result of the following expression?\n",
    "```python\n",
    "0 * np.nan\n",
    "np.nan == np.nan\n",
    "np.inf > np.nan\n",
    "np.nan - np.nan\n",
    "np.nan in set([np.nan])\n",
    "0.3 == 3 * 0.1\n",
    "```"
   ]
  },
  {
   "cell_type": "code",
   "execution_count": 34,
   "id": "3b4985f2",
   "metadata": {},
   "outputs": [
    {
     "data": {
      "text/plain": [
       "nan"
      ]
     },
     "execution_count": 34,
     "metadata": {},
     "output_type": "execute_result"
    }
   ],
   "source": [
    "0 * np.nan"
   ]
  },
  {
   "cell_type": "code",
   "execution_count": 35,
   "id": "219f567b",
   "metadata": {},
   "outputs": [
    {
     "data": {
      "text/plain": [
       "False"
      ]
     },
     "execution_count": 35,
     "metadata": {},
     "output_type": "execute_result"
    }
   ],
   "source": [
    "np.nan == np.nan"
   ]
  },
  {
   "cell_type": "markdown",
   "id": "502738ac",
   "metadata": {},
   "source": [
    "#### 18. Create a 5x5 matrix with values 1,2,3,4 just below the diagonal"
   ]
  },
  {
   "cell_type": "code",
   "execution_count": 39,
   "id": "faed6e2b",
   "metadata": {},
   "outputs": [
    {
     "name": "stdout",
     "output_type": "stream",
     "text": [
      "[[0 0 0 0 0]\n",
      " [1 0 0 0 0]\n",
      " [0 2 0 0 0]\n",
      " [0 0 3 0 0]\n",
      " [0 0 0 4 0]]\n"
     ]
    }
   ],
   "source": [
    "arr = np.diag([1, 2, 3, 4], k = -1)\n",
    "print(arr)"
   ]
  },
  {
   "cell_type": "markdown",
   "id": "a65da660",
   "metadata": {},
   "source": [
    "#### 19. Create a 8x8 matrix and fill it with a checkerboard pattern"
   ]
  },
  {
   "cell_type": "code",
   "execution_count": 42,
   "id": "ed150400",
   "metadata": {},
   "outputs": [
    {
     "name": "stdout",
     "output_type": "stream",
     "text": [
      "[[0. 1. 0. 1. 0. 1. 0. 1.]\n",
      " [1. 0. 1. 0. 1. 0. 1. 0.]\n",
      " [0. 1. 0. 1. 0. 1. 0. 1.]\n",
      " [1. 0. 1. 0. 1. 0. 1. 0.]\n",
      " [0. 1. 0. 1. 0. 1. 0. 1.]\n",
      " [1. 0. 1. 0. 1. 0. 1. 0.]\n",
      " [0. 1. 0. 1. 0. 1. 0. 1.]\n",
      " [1. 0. 1. 0. 1. 0. 1. 0.]]\n"
     ]
    }
   ],
   "source": [
    "mat = np.zeros((8,8))\n",
    "mat[1::2, 0::2] = 1\n",
    "mat[0::2, 1::2] = 1\n",
    "print(mat)"
   ]
  },
  {
   "cell_type": "markdown",
   "id": "9f7f9c49",
   "metadata": {},
   "source": [
    "#### 20. Consider a (6,7,8) shape array, what is the index (x,y,z) of the 100th element? "
   ]
  },
  {
   "cell_type": "code",
   "execution_count": 44,
   "id": "3782b5a9",
   "metadata": {},
   "outputs": [
    {
     "name": "stdout",
     "output_type": "stream",
     "text": [
      "(1, 5, 4)\n"
     ]
    }
   ],
   "source": [
    "arr = np.unravel_index(100, (6, 7, 8))\n",
    "print(arr)"
   ]
  },
  {
   "cell_type": "markdown",
   "id": "66bfda35",
   "metadata": {},
   "source": [
    "#### 21. Create a checkerboard 8x8 matrix using the tile function"
   ]
  },
  {
   "cell_type": "code",
   "execution_count": 49,
   "id": "4c07477c",
   "metadata": {},
   "outputs": [
    {
     "name": "stdout",
     "output_type": "stream",
     "text": [
      "[[0 1 0 1 0 1 0 1]\n",
      " [1 0 1 0 1 0 1 0]\n",
      " [0 1 0 1 0 1 0 1]\n",
      " [1 0 1 0 1 0 1 0]\n",
      " [0 1 0 1 0 1 0 1]\n",
      " [1 0 1 0 1 0 1 0]\n",
      " [0 1 0 1 0 1 0 1]\n",
      " [1 0 1 0 1 0 1 0]]\n"
     ]
    }
   ],
   "source": [
    "checkBoard = np.tile([[0,1],[1,0]],(4,4)) \n",
    "# tile is used to repeat an array. (4,4) means 4 rows and 4 columns. [[0,1],[1,0]] means 0 will be repeated 4 times and 1 will be repeated 4 times\n",
    "print(checkBoard)"
   ]
  },
  {
   "cell_type": "markdown",
   "id": "d5bcfc08",
   "metadata": {},
   "source": [
    "#### 22. Normalize a 5x5 random matrix"
   ]
  },
  {
   "cell_type": "code",
   "execution_count": 56,
   "id": "cea6c993",
   "metadata": {},
   "outputs": [
    {
     "name": "stdout",
     "output_type": "stream",
     "text": [
      "[[0.79370086 0.31089619 0.5385719  0.2926282  0.00141989]\n",
      " [0.15454411 0.72585299 0.         0.83569178 0.53175628]\n",
      " [0.59977283 0.54712097 0.42698805 0.8258735  0.3588379 ]\n",
      " [0.30306219 0.4288986  0.04542839 0.75007265 0.4898802 ]\n",
      " [1.         0.34315357 0.82626598 0.31795367 0.718353  ]]\n"
     ]
    }
   ],
   "source": [
    "arr = np.random.rand(5, 5)*10\n",
    "\n",
    "min_val = arr.min()\n",
    "max_val = arr.max()\n",
    "\n",
    "normalized_array = (arr - min_val) / (max_val - min_val)\n",
    "\n",
    "print(normalized_array)"
   ]
  },
  {
   "cell_type": "markdown",
   "id": "f9a0911e",
   "metadata": {},
   "source": [
    "#### 23. Create a custom dtype that describes a color as four unsigned bytes (RGBA)"
   ]
  },
  {
   "cell_type": "code",
   "execution_count": 84,
   "id": "d165044b",
   "metadata": {},
   "outputs": [
    {
     "name": "stdout",
     "output_type": "stream",
     "text": [
      "[('R', 'u1'), ('G', 'u1'), ('B', 'u1'), ('A', 'u1')]\n"
     ]
    }
   ],
   "source": [
    "import numpy as np\n",
    "\n",
    "dtype_rgba = np.dtype([('R', np.uint8), \n",
    "                       ('G', np.uint8),\n",
    "                       ('B', np.uint8),\n",
    "                       ('A', np.uint8)])\n",
    "\n",
    "print(dtype_rgba)"
   ]
  },
  {
   "cell_type": "code",
   "execution_count": 62,
   "id": "750a3e68",
   "metadata": {},
   "outputs": [
    {
     "name": "stdout",
     "output_type": "stream",
     "text": [
      "[(255,   0,   0, 255) (  0, 255,   0, 255) (  0,   0, 255, 255)]\n"
     ]
    }
   ],
   "source": [
    "# create an array of RGBA colors\n",
    "colors = np.array([(255, 0, 0, 255),\n",
    "                   (0, 255, 0, 255),\n",
    "                   (0, 0, 255, 255)],\n",
    "                  dtype=dtype_rgba)\n",
    "\n",
    "print(colors)"
   ]
  },
  {
   "cell_type": "markdown",
   "id": "654805b1",
   "metadata": {},
   "source": [
    "#### 24. Multiply a 5x3 matrix by a 3x2 matrix (real matrix product)"
   ]
  },
  {
   "cell_type": "code",
   "execution_count": 63,
   "id": "6a42619f",
   "metadata": {},
   "outputs": [
    {
     "name": "stdout",
     "output_type": "stream",
     "text": [
      "[[3. 3.]\n",
      " [3. 3.]\n",
      " [3. 3.]\n",
      " [3. 3.]\n",
      " [3. 3.]]\n"
     ]
    }
   ],
   "source": [
    "mat1 = np.ones((5,3))\n",
    "mat2 = np.ones((3,2))\n",
    "\n",
    "print(np.dot(mat1, mat2))"
   ]
  },
  {
   "cell_type": "markdown",
   "id": "994c25df",
   "metadata": {},
   "source": [
    "#### 25. Given a 1D array, negate all elements which are between 3 and 8, in place."
   ]
  },
  {
   "cell_type": "code",
   "execution_count": 65,
   "id": "e4b39c03",
   "metadata": {},
   "outputs": [
    {
     "name": "stdout",
     "output_type": "stream",
     "text": [
      "[ 0  1  2  3 -4 -5 -6 -7  8  9 10]\n"
     ]
    }
   ],
   "source": [
    "arr = np.arange(11)\n",
    "filter = (arr > 3) & (arr < 8) \n",
    "arr[filter] *= -1\n",
    "print(arr)"
   ]
  },
  {
   "cell_type": "markdown",
   "id": "b7d15d1a",
   "metadata": {},
   "source": [
    "#### 26. What is the output of the following script?\n",
    "```python\n",
    "# Author: Jake VanderPlas\n",
    "\n",
    "print(sum(range(5),-1))\n",
    "from numpy import *\n",
    "print(sum(range(5),-1))\n",
    "```"
   ]
  },
  {
   "cell_type": "code",
   "execution_count": 72,
   "id": "4148f407",
   "metadata": {},
   "outputs": [
    {
     "name": "stdout",
     "output_type": "stream",
     "text": [
      "10\n",
      "10\n"
     ]
    }
   ],
   "source": [
    "print(sum(range(5),-1))\n",
    "from numpy import *\n",
    "print(sum(range(5),-1))"
   ]
  },
  {
   "cell_type": "markdown",
   "id": "a34f0d08",
   "metadata": {},
   "source": [
    "#### 27. Consider an integer vector Z, which of these expressions are legal?\n",
    "```python\n",
    "Z**Z\n",
    "2 << Z >> 2\n",
    "Z <- Z\n",
    "1j*Z\n",
    "Z/1/1\n",
    "Z<Z>Z\n",
    "```"
   ]
  },
  {
   "cell_type": "code",
   "execution_count": 74,
   "id": "564658fc",
   "metadata": {},
   "outputs": [
    {
     "name": "stdout",
     "output_type": "stream",
     "text": [
      "[ 1  4  9 16 25]\n",
      "[ 1  2  4  8 16]\n",
      "[False False False False False]\n",
      "[0.+1.j 0.+2.j 0.+3.j 0.+4.j 0.+5.j]\n",
      "[1. 2. 3. 4. 5.]\n"
     ]
    },
    {
     "ename": "ValueError",
     "evalue": "The truth value of an array with more than one element is ambiguous. Use a.any() or a.all()",
     "output_type": "error",
     "traceback": [
      "\u001b[1;31m---------------------------------------------------------------------------\u001b[0m",
      "\u001b[1;31mValueError\u001b[0m                                Traceback (most recent call last)",
      "Cell \u001b[1;32mIn[74], line 8\u001b[0m\n\u001b[0;32m      6\u001b[0m \u001b[38;5;28mprint\u001b[39m(\u001b[38;5;241m1\u001b[39mj\u001b[38;5;241m*\u001b[39mv)\n\u001b[0;32m      7\u001b[0m \u001b[38;5;28mprint\u001b[39m(v\u001b[38;5;241m/\u001b[39m\u001b[38;5;241m1\u001b[39m\u001b[38;5;241m/\u001b[39m\u001b[38;5;241m1\u001b[39m)\n\u001b[1;32m----> 8\u001b[0m \u001b[38;5;28mprint\u001b[39m(v\u001b[38;5;241m<\u001b[39mv\u001b[38;5;241m>\u001b[39mv)\n",
      "\u001b[1;31mValueError\u001b[0m: The truth value of an array with more than one element is ambiguous. Use a.any() or a.all()"
     ]
    }
   ],
   "source": [
    "v = np.array([1,2,3,4,5])\n",
    "\n",
    "print(v**2)\n",
    "print(2<< v >>2)\n",
    "print(v < -v)\n",
    "print(1j*v)\n",
    "print(v/1/1)\n",
    "print(v<v>v)"
   ]
  },
  {
   "cell_type": "markdown",
   "id": "c34e94bf",
   "metadata": {},
   "source": [
    "#### 28. What are the result of the following expressions?\n",
    "```python\n",
    "np.array(0) / np.array(0)\n",
    "np.array(0) // np.array(0)\n",
    "np.array([np.nan]).astype(int).astype(float)\n",
    "```"
   ]
  },
  {
   "cell_type": "code",
   "execution_count": 75,
   "id": "56663562",
   "metadata": {},
   "outputs": [
    {
     "name": "stderr",
     "output_type": "stream",
     "text": [
      "C:\\Users\\PMLS\\AppData\\Local\\Temp\\ipykernel_6636\\548293649.py:1: RuntimeWarning: invalid value encountered in divide\n",
      "  np.array(0) / np.array(0)\n",
      "C:\\Users\\PMLS\\AppData\\Local\\Temp\\ipykernel_6636\\548293649.py:2: RuntimeWarning: divide by zero encountered in floor_divide\n",
      "  np.array(0) // np.array(0)\n",
      "C:\\Users\\PMLS\\AppData\\Local\\Temp\\ipykernel_6636\\548293649.py:3: RuntimeWarning: invalid value encountered in cast\n",
      "  np.array([np.nan]).astype(int).astype(float)\n"
     ]
    },
    {
     "data": {
      "text/plain": [
       "array([-2.14748365e+09])"
      ]
     },
     "execution_count": 75,
     "metadata": {},
     "output_type": "execute_result"
    }
   ],
   "source": [
    "np.array(0) / np.array(0)\n",
    "np.array(0) // np.array(0)\n",
    "np.array([np.nan]).astype(int).astype(float)"
   ]
  },
  {
   "cell_type": "markdown",
   "id": "546f5e7b",
   "metadata": {},
   "source": [
    "#### 29. How to round away from zero a float array ?"
   ]
  },
  {
   "cell_type": "code",
   "execution_count": 76,
   "id": "f725a6d2",
   "metadata": {},
   "outputs": [
    {
     "name": "stdout",
     "output_type": "stream",
     "text": [
      "[2. 3. 4. 5. 6.]\n",
      "[1. 2. 3. 4. 5.]\n"
     ]
    }
   ],
   "source": [
    "arr = np.array([1.1, 2.3, 3.7, 4.5, 5.9])\n",
    "rounded_up = np.ceil(arr)\n",
    "rounded_down = np.floor(arr)\n",
    "print(rounded_up)\n",
    "print(rounded_down)"
   ]
  },
  {
   "cell_type": "markdown",
   "id": "eadca856",
   "metadata": {},
   "source": [
    "#### 30. How to find common values between two arrays?"
   ]
  },
  {
   "cell_type": "code",
   "execution_count": 77,
   "id": "e0270b5b",
   "metadata": {},
   "outputs": [
    {
     "name": "stdout",
     "output_type": "stream",
     "text": [
      "[3 4]\n"
     ]
    }
   ],
   "source": [
    "arr1 = np.array([1, 2, 3 ,4])\n",
    "arr2 = np.array([4, 3, 7, 8])\n",
    "\n",
    "print(np.intersect1d(arr1, arr2))"
   ]
  },
  {
   "cell_type": "markdown",
   "id": "ca16ca22",
   "metadata": {},
   "source": [
    "#### 31. How to ignore all numpy warnings (not recommended)?"
   ]
  },
  {
   "cell_type": "code",
   "execution_count": 82,
   "id": "7d7208ef",
   "metadata": {},
   "outputs": [
    {
     "data": {
      "text/plain": [
       "{'divide': 'warn', 'over': 'warn', 'under': 'ignore', 'invalid': 'warn'}"
      ]
     },
     "execution_count": 82,
     "metadata": {},
     "output_type": "execute_result"
    }
   ],
   "source": [
    "np.seterr(all=\"ignore\")"
   ]
  },
  {
   "cell_type": "code",
   "execution_count": 83,
   "id": "ec5ed38c",
   "metadata": {},
   "outputs": [
    {
     "data": {
      "text/plain": [
       "{'divide': 'ignore', 'over': 'ignore', 'under': 'ignore', 'invalid': 'ignore'}"
      ]
     },
     "execution_count": 83,
     "metadata": {},
     "output_type": "execute_result"
    }
   ],
   "source": [
    "# enable again\n",
    "np.seterr(all=\"warn\")"
   ]
  },
  {
   "cell_type": "markdown",
   "id": "c7871d0d",
   "metadata": {},
   "source": [
    "#### 32. Is the following expressions true?\n",
    "```python\n",
    "np.sqrt(-1) == np.emath.sqrt(-1)\n",
    "```"
   ]
  },
  {
   "cell_type": "code",
   "execution_count": 85,
   "id": "acc3701a",
   "metadata": {},
   "outputs": [
    {
     "data": {
      "text/plain": [
       "False"
      ]
     },
     "execution_count": 85,
     "metadata": {},
     "output_type": "execute_result"
    }
   ],
   "source": [
    "np.sqrt(-1) == np.emath.sqrt(-1)"
   ]
  },
  {
   "cell_type": "markdown",
   "id": "e0433e30",
   "metadata": {},
   "source": [
    "#### 33. How to get the dates of yesterday, today and tomorrow?"
   ]
  },
  {
   "cell_type": "code",
   "execution_count": 87,
   "id": "9c4d2152",
   "metadata": {},
   "outputs": [
    {
     "name": "stdout",
     "output_type": "stream",
     "text": [
      "yesterday: 2024-07-04\n",
      "today: 2024-07-05\n",
      "tomorrow 2024-07-06\n"
     ]
    }
   ],
   "source": [
    "yesterday = np.datetime64('today', 'D') - np.timedelta64(1, 'D')\n",
    "today     = np.datetime64('today', 'D')\n",
    "tomorrow  = np.datetime64('today', 'D') + np.timedelta64(1, 'D')\n",
    "\n",
    "print(\"yesterday:\", yesterday)\n",
    "print(\"today:\", today)\n",
    "print(\"tomorrow\", tomorrow)"
   ]
  },
  {
   "cell_type": "markdown",
   "id": "9f52a2ef",
   "metadata": {},
   "source": [
    "#### 34. How to get all the dates corresponding to the month of July 2016?"
   ]
  },
  {
   "cell_type": "code",
   "execution_count": 89,
   "id": "d6c34dec",
   "metadata": {},
   "outputs": [
    {
     "name": "stdout",
     "output_type": "stream",
     "text": [
      "['2016-07-01' '2016-07-02' '2016-07-03' '2016-07-04' '2016-07-05'\n",
      " '2016-07-06' '2016-07-07' '2016-07-08' '2016-07-09' '2016-07-10'\n",
      " '2016-07-11' '2016-07-12' '2016-07-13' '2016-07-14' '2016-07-15'\n",
      " '2016-07-16' '2016-07-17' '2016-07-18' '2016-07-19' '2016-07-20'\n",
      " '2016-07-21' '2016-07-22' '2016-07-23' '2016-07-24' '2016-07-25'\n",
      " '2016-07-26' '2016-07-27' '2016-07-28' '2016-07-29' '2016-07-30'\n",
      " '2016-07-31']\n"
     ]
    }
   ],
   "source": [
    "dates_in_july = np.arange('2016-07', '2016-08', dtype='datetime64[D]') \n",
    "print(dates_in_july)"
   ]
  },
  {
   "cell_type": "markdown",
   "id": "4a64e059",
   "metadata": {},
   "source": [
    "#### 35. How to compute ((A+B)*(-A/2)) in place (without copy)?"
   ]
  },
  {
   "cell_type": "code",
   "execution_count": 93,
   "id": "49267f60",
   "metadata": {},
   "outputs": [
    {
     "name": "stdout",
     "output_type": "stream",
     "text": [
      "[-12.5 -24.5 -40.5]\n"
     ]
    }
   ],
   "source": [
    "import numpy as np\n",
    "\n",
    "A = np.array([1, 2, 3], dtype=np.float64)\n",
    "B = np.array([4, 5, 6])\n",
    "\n",
    "A += B\n",
    "A *= (-A / 2)\n",
    "\n",
    "print(A)"
   ]
  },
  {
   "cell_type": "markdown",
   "id": "8a98c2a8",
   "metadata": {},
   "source": [
    "#### 36. Extract the integer part of a random array of positive numbers using 4 different methods"
   ]
  },
  {
   "cell_type": "code",
   "execution_count": 102,
   "id": "368130b3",
   "metadata": {},
   "outputs": [
    {
     "name": "stdout",
     "output_type": "stream",
     "text": [
      "[9. 2. 3. 5. 4. 3. 9. 7. 0. 4.]\n",
      "[9. 2. 3. 5. 4. 3. 9. 7. 0. 4.]\n",
      "[9. 2. 3. 5. 4. 3. 9. 7. 0. 4.]\n",
      "[9 2 3 5 4 3 9 7 0 4]\n",
      "[9. 2. 3. 5. 4. 3. 9. 7. 0. 4.]\n"
     ]
    }
   ],
   "source": [
    "arr = np.random.uniform(0,10,10)\n",
    "\n",
    "print(arr - arr % 1)\n",
    "print(arr // 1)\n",
    "print(np.floor(arr))\n",
    "print(arr.astype(int))\n",
    "print(np.trunc(arr))"
   ]
  },
  {
   "cell_type": "markdown",
   "id": "5a2e3d85",
   "metadata": {},
   "source": [
    "#### 37. Create a 5x5 matrix with row values ranging from 0 to 4"
   ]
  },
  {
   "cell_type": "code",
   "execution_count": 106,
   "id": "1d974e8f",
   "metadata": {},
   "outputs": [
    {
     "name": "stdout",
     "output_type": "stream",
     "text": [
      "[[0. 1. 2. 3. 4.]\n",
      " [0. 1. 2. 3. 4.]\n",
      " [0. 1. 2. 3. 4.]\n",
      " [0. 1. 2. 3. 4.]\n",
      " [0. 1. 2. 3. 4.]]\n"
     ]
    }
   ],
   "source": [
    "# Create a 5x5 matrix with row values ranging from 0 to 4\n",
    "\n",
    "arr = np.zeros((5,5))\n",
    "\n",
    "arr += np.arange(0,5)\n",
    "\n",
    "print(arr)"
   ]
  },
  {
   "cell_type": "markdown",
   "id": "9720e2d5",
   "metadata": {},
   "source": [
    "#### 38. Consider a generator function that generates 10 integers and use it to build an array"
   ]
  },
  {
   "cell_type": "code",
   "execution_count": 108,
   "id": "e5dd8fc9",
   "metadata": {},
   "outputs": [
    {
     "name": "stdout",
     "output_type": "stream",
     "text": [
      "[0. 1. 2. 3. 4. 5. 6. 7. 8. 9.]\n"
     ]
    }
   ],
   "source": [
    "def generator():\n",
    "    for i in range(10):\n",
    "        yield i\n",
    "\n",
    "arr = np.fromiter(generator(), dtype=np.float64)\n",
    "print(arr)"
   ]
  },
  {
   "cell_type": "markdown",
   "id": "c6f2c912",
   "metadata": {},
   "source": [
    "#### 39. Create a vector of size 10 with values ranging from 0 to 1, both excluded"
   ]
  },
  {
   "cell_type": "code",
   "execution_count": 110,
   "id": "6aaa27d3",
   "metadata": {},
   "outputs": [
    {
     "name": "stdout",
     "output_type": "stream",
     "text": [
      "[0.09090909 0.18181818 0.27272727 0.36363636 0.45454545 0.54545455\n",
      " 0.63636364 0.72727273 0.81818182 0.90909091]\n"
     ]
    }
   ],
   "source": [
    "vec = np.linspace(0, 1, 11, endpoint=False)[1:] #[1:] is used to remove 0 from the array (1st element)\n",
    "\n",
    "print(vec)"
   ]
  },
  {
   "cell_type": "markdown",
   "id": "a36d6ee4",
   "metadata": {},
   "source": [
    "#### 40. Create a random vector of size 10 and sort it"
   ]
  },
  {
   "cell_type": "code",
   "execution_count": 111,
   "id": "e589d216",
   "metadata": {},
   "outputs": [
    {
     "name": "stdout",
     "output_type": "stream",
     "text": [
      "[0.10471668 0.11121684 0.13686721 0.269841   0.27542954 0.28768047\n",
      " 0.31990172 0.47909208 0.88734344 0.90880057]\n"
     ]
    }
   ],
   "source": [
    "vec = np.random.random(10)\n",
    "\n",
    "vec.sort()\n",
    "\n",
    "print(vec)"
   ]
  },
  {
   "cell_type": "markdown",
   "id": "0fb4ad68",
   "metadata": {},
   "source": [
    "#### 41. How to sum a small array faster than np.sum?"
   ]
  },
  {
   "cell_type": "code",
   "execution_count": 114,
   "id": "a1ba05a0",
   "metadata": {},
   "outputs": [
    {
     "name": "stdout",
     "output_type": "stream",
     "text": [
      "36\n"
     ]
    }
   ],
   "source": [
    "arr = [0, 1, 2, 3, 4, 5, 6, 7, 8]\n",
    "print(sum(arr))"
   ]
  },
  {
   "cell_type": "markdown",
   "id": "024ac365",
   "metadata": {},
   "source": [
    "#### 42. Consider two random array A and B, check if they are equal"
   ]
  },
  {
   "cell_type": "code",
   "execution_count": 115,
   "id": "7db3846d",
   "metadata": {},
   "outputs": [
    {
     "data": {
      "text/plain": [
       "False"
      ]
     },
     "execution_count": 115,
     "metadata": {},
     "output_type": "execute_result"
    }
   ],
   "source": [
    "Arr1 = np.random.randint(0,2,5)\n",
    "Arr2 = np.random.randint(0,2,5)\n",
    "\n",
    "np.array_equal(Arr1, Arr2)"
   ]
  },
  {
   "cell_type": "markdown",
   "id": "c68d2401",
   "metadata": {},
   "source": [
    "#### 43. Make an array immutable (read-only) "
   ]
  },
  {
   "cell_type": "code",
   "execution_count": 3,
   "id": "7828539d",
   "metadata": {},
   "outputs": [
    {
     "ename": "ValueError",
     "evalue": "assignment destination is read-only",
     "output_type": "error",
     "traceback": [
      "\u001b[1;31m---------------------------------------------------------------------------\u001b[0m",
      "\u001b[1;31mValueError\u001b[0m                                Traceback (most recent call last)",
      "Cell \u001b[1;32mIn[3], line 6\u001b[0m\n\u001b[0;32m      2\u001b[0m arr \u001b[38;5;241m=\u001b[39m np\u001b[38;5;241m.\u001b[39marray([\u001b[38;5;241m1\u001b[39m, \u001b[38;5;241m2\u001b[39m, \u001b[38;5;241m3\u001b[39m, \u001b[38;5;241m4\u001b[39m, \u001b[38;5;241m5\u001b[39m])\n\u001b[0;32m      4\u001b[0m arr\u001b[38;5;241m.\u001b[39mflags\u001b[38;5;241m.\u001b[39mwriteable \u001b[38;5;241m=\u001b[39m \u001b[38;5;28;01mFalse\u001b[39;00m\n\u001b[1;32m----> 6\u001b[0m arr[\u001b[38;5;241m0\u001b[39m] \u001b[38;5;241m=\u001b[39m \u001b[38;5;241m10\u001b[39m\n",
      "\u001b[1;31mValueError\u001b[0m: assignment destination is read-only"
     ]
    }
   ],
   "source": [
    "# Make an array immutable (read-only) \n",
    "arr = np.array([1, 2, 3, 4, 5])\n",
    "\n",
    "arr.flags.writeable = False\n",
    "\n",
    "arr[0] = 10"
   ]
  },
  {
   "cell_type": "markdown",
   "id": "55df6280",
   "metadata": {},
   "source": [
    "#### 44. Consider a random 10x2 matrix representing cartesian coordinates, convert them to polar coordinates"
   ]
  },
  {
   "cell_type": "code",
   "execution_count": 122,
   "id": "f1c86ea0",
   "metadata": {},
   "outputs": [
    {
     "name": "stdout",
     "output_type": "stream",
     "text": [
      "Cartesian Coordinates:\n",
      " [[0.63262207 0.26508687]\n",
      " [0.8707758  0.31582601]\n",
      " [0.40415451 0.69072207]\n",
      " [0.77883566 0.38901778]\n",
      " [0.04955491 0.45010193]\n",
      " [0.70242172 0.48078148]\n",
      " [0.17596017 0.64596836]\n",
      " [0.34606642 0.36763827]\n",
      " [0.95917792 0.11990187]\n",
      " [0.50953514 0.45450993]]\n",
      "\n",
      "Polar Coordinates (r, theta in degrees):\n",
      " [[ 0.68591671 22.73508759]\n",
      " [ 0.92628104 19.9354538 ]\n",
      " [ 0.8002736  59.66729225]\n",
      " [ 0.8705859  26.54150205]\n",
      " [ 0.45282163 83.71720555]\n",
      " [ 0.85120333 34.39018558]\n",
      " [ 0.66950512 74.7624689 ]\n",
      " [ 0.5048959  46.73124818]\n",
      " [ 0.96664303  7.12528887]\n",
      " [ 0.6827923  41.73324892]]\n"
     ]
    }
   ],
   "source": [
    "cartesian_coords = np.random.rand(10, 2)\n",
    "\n",
    "x = cartesian_coords[:, 0]\n",
    "y = cartesian_coords[:, 1]\n",
    "# radius\n",
    "r = np.sqrt(x**2 + y**2)\n",
    "# angle\n",
    "theta = np.arctan2(y, x)\n",
    "# angle in degrees\n",
    "theta_degrees = np.degrees(theta)\n",
    "\n",
    "polar_coords = np.column_stack((r, theta_degrees))\n",
    "\n",
    "print(\"Cartesian Coordinates:\\n\", cartesian_coords)\n",
    "print(\"\\nPolar Coordinates (r, theta in degrees):\\n\", polar_coords)\n"
   ]
  },
  {
   "cell_type": "markdown",
   "id": "2f60f1ec",
   "metadata": {},
   "source": [
    "#### 45. Create random vector of size 10 and replace the maximum value by 0"
   ]
  },
  {
   "cell_type": "code",
   "execution_count": 123,
   "id": "d9f48f1c",
   "metadata": {},
   "outputs": [
    {
     "name": "stdout",
     "output_type": "stream",
     "text": [
      "[0.2519718  0.10052623 0.35673567 0.16952589 0.18565119 0.54096192\n",
      " 0.80170901 0.68669113 0.61779424 0.        ]\n"
     ]
    }
   ],
   "source": [
    "vec = np.random.random(10)\n",
    "\n",
    "vec[vec.argmax()] = 0\n",
    "\n",
    "print(vec)"
   ]
  },
  {
   "cell_type": "markdown",
   "id": "084e8ad4",
   "metadata": {},
   "source": [
    "#### 46. Create a structured array with `x` and `y` coordinates covering the [0,1]x[0,1] area"
   ]
  },
  {
   "cell_type": "code",
   "execution_count": 127,
   "id": "58b47c13",
   "metadata": {},
   "outputs": [
    {
     "name": "stdout",
     "output_type": "stream",
     "text": [
      "[(0.        , 0.        ) (0.33333333, 0.        )\n",
      " (0.66666667, 0.        ) (1.        , 0.        )\n",
      " (0.        , 0.33333333) (0.33333333, 0.33333333)\n",
      " (0.66666667, 0.33333333) (1.        , 0.33333333)\n",
      " (0.        , 0.66666667) (0.33333333, 0.66666667)\n",
      " (0.66666667, 0.66666667) (1.        , 0.66666667)\n",
      " (0.        , 1.        ) (0.33333333, 1.        )\n",
      " (0.66666667, 1.        ) (1.        , 1.        )]\n"
     ]
    }
   ],
   "source": [
    "num_points = 4\n",
    "\n",
    "grid = np.zeros((num_points*num_points,), dtype=[('x', float), ('y', float)])\n",
    "\n",
    "# Generate x and y coordinates\n",
    "x_coords, y_coords = np.meshgrid(np.linspace(0, 1, num_points), np.linspace(0, 1, num_points))\n",
    "\n",
    "grid['x'] = x_coords.ravel()\n",
    "grid['y'] = y_coords.ravel()\n",
    "\n",
    "print(grid)"
   ]
  },
  {
   "cell_type": "markdown",
   "id": "d7b9bc42",
   "metadata": {},
   "source": [
    "#### 47. Given two arrays, X and Y, construct the Cauchy matrix C (Cij =1/(xi - yj))"
   ]
  },
  {
   "cell_type": "code",
   "execution_count": 128,
   "id": "a24824fb",
   "metadata": {},
   "outputs": [
    {
     "name": "stdout",
     "output_type": "stream",
     "text": [
      "Cauchy Matrix C:\n",
      "[[-0.33333333 -0.25      ]\n",
      " [-0.5        -0.33333333]\n",
      " [-1.         -0.5       ]]\n"
     ]
    }
   ],
   "source": [
    "def cauchy_matrix(X, Y):\n",
    "    m = len(X)\n",
    "    n = len(Y)\n",
    "    C = np.zeros((m, n))\n",
    "    for i in range(m):\n",
    "        for j in range(n):\n",
    "            C[i, j] = 1 / (X[i] - Y[j])\n",
    "    return C\n",
    "\n",
    "X = np.array([1, 2, 3])\n",
    "Y = np.array([4, 5])\n",
    "C = cauchy_matrix(X, Y)\n",
    "print(\"Cauchy Matrix C:\")\n",
    "print(C)"
   ]
  },
  {
   "cell_type": "markdown",
   "id": "65ebc11b",
   "metadata": {},
   "source": [
    "#### 48. Print the minimum and maximum representable value for each numpy scalar type"
   ]
  },
  {
   "cell_type": "code",
   "execution_count": 131,
   "id": "e45d38fb",
   "metadata": {},
   "outputs": [
    {
     "name": "stdout",
     "output_type": "stream",
     "text": [
      "-128\n",
      "127\n",
      "-2147483648\n",
      "2147483647\n",
      "-9223372036854775808\n",
      "9223372036854775807\n",
      "-3.4028235e+38\n",
      "3.4028235e+38\n",
      "1.1920929e-07\n",
      "-1.7976931348623157e+308\n",
      "1.7976931348623157e+308\n",
      "2.220446049250313e-16\n"
     ]
    }
   ],
   "source": [
    "for dtype in [np.int8, np.int32, np.int64]:\n",
    "    print(np.iinfo(dtype).min)\n",
    "    print(np.iinfo(dtype).max)\n",
    "\n",
    "for dtype in [np.float32, np.float64]:\n",
    "    print(np.finfo(dtype).min)\n",
    "    print(np.finfo(dtype).max)\n",
    "    print(np.finfo(dtype).eps)"
   ]
  },
  {
   "cell_type": "markdown",
   "id": "9b317a98",
   "metadata": {},
   "source": [
    "#### 49. How to print all the values of an array? "
   ]
  },
  {
   "cell_type": "code",
   "execution_count": 133,
   "id": "309cdeb9",
   "metadata": {},
   "outputs": [
    {
     "name": "stdout",
     "output_type": "stream",
     "text": [
      "[[0. 0. 0. 0. 0.]\n",
      " [0. 0. 0. 0. 0.]\n",
      " [0. 0. 0. 0. 0.]\n",
      " [0. 0. 0. 0. 0.]\n",
      " [0. 0. 0. 0. 0.]]\n"
     ]
    }
   ],
   "source": [
    "np.set_printoptions(threshold=float(\"inf\"))\n",
    "arr = np.zeros((5,5))\n",
    "print(arr)"
   ]
  },
  {
   "cell_type": "markdown",
   "id": "b580f9d0",
   "metadata": {},
   "source": [
    "#### 50. How to find the closest value (to a given scalar) in a vector?"
   ]
  },
  {
   "cell_type": "code",
   "execution_count": 136,
   "id": "ebfb6714",
   "metadata": {},
   "outputs": [
    {
     "name": "stdout",
     "output_type": "stream",
     "text": [
      "7\n"
     ]
    }
   ],
   "source": [
    "arr = np.arange(10)\n",
    "arr2 = np.random.uniform(0,10)\n",
    "\n",
    "index = (np.abs(arr-arr2)).argmin()\n",
    "print(arr[index])"
   ]
  },
  {
   "cell_type": "markdown",
   "id": "602e6252",
   "metadata": {},
   "source": [
    "#### 51. Create a structured array representing a position (x,y) and a color (r,g,b)"
   ]
  },
  {
   "cell_type": "code",
   "execution_count": 140,
   "id": "cf002b3a",
   "metadata": {},
   "outputs": [
    {
     "name": "stdout",
     "output_type": "stream",
     "text": [
      "[((0., 0.), (0., 0., 0.)) ((0., 0.), (0., 0., 0.))\n",
      " ((0., 0.), (0., 0., 0.)) ((0., 0.), (0., 0., 0.))\n",
      " ((0., 0.), (0., 0., 0.)) ((0., 0.), (0., 0., 0.))\n",
      " ((0., 0.), (0., 0., 0.)) ((0., 0.), (0., 0., 0.))\n",
      " ((0., 0.), (0., 0., 0.)) ((0., 0.), (0., 0., 0.))]\n"
     ]
    }
   ],
   "source": [
    "arr = np.zeros(10, [('position', [ ('x', float, 1), ('y', float, 1)]), \n",
    "                    ('color', [('r', float, 1), ('g', float, 1), ('b', float, 1)])])\n",
    "\n",
    "print(arr)"
   ]
  },
  {
   "cell_type": "markdown",
   "id": "78bcd92f",
   "metadata": {},
   "source": [
    "#### 52. Consider a random vector with shape (100,2) representing coordinates, find point by point distances"
   ]
  },
  {
   "cell_type": "code",
   "execution_count": 141,
   "id": "fea7f9a6",
   "metadata": {},
   "outputs": [
    {
     "name": "stdout",
     "output_type": "stream",
     "text": [
      "[1.13428241 0.25402117 0.67357987 0.4823674  0.66803886 0.92376952\n",
      " 1.27478538 0.71781876 1.05389318 0.48638911 1.06097079 1.26111613\n",
      " 0.99535778 0.30487767 0.98152737 0.51363968 1.18400552 0.96401288\n",
      " 0.85358408 0.9654937  1.15018033 1.25348441 0.43809295 0.9353613\n",
      " 0.92725982 0.76658473 0.62737457 1.03405008 1.15496913 1.20596921\n",
      " 0.84960767 1.20050927 0.86944256 0.60043593 0.51670649 0.93684468\n",
      " 0.80248974 0.16526095 0.61344425 1.27444113 1.22411863 0.79569033\n",
      " 0.95058497 0.75964362 0.92801918 0.65457826 1.12707435 0.48402598\n",
      " 0.89684831 0.76811188 0.14948694 1.0223736  0.92643478 1.14598307\n",
      " 1.38445013 1.23524736 0.71991091 0.96663182 1.09199139 0.86431052\n",
      " 1.04106348 0.60582822 0.77572422 0.73428101 0.71621448 1.12632697\n",
      " 0.59340834 0.96251489 0.6260469  0.64189338 0.3593716  0.57477242\n",
      " 0.91088645 1.22526837 0.50379827 0.62667901 0.70447458 0.87529561\n",
      " 0.61826441 0.97053851 1.18936942 1.0431334  1.15033563 0.47316533\n",
      " 0.95011803 0.88176692 0.21990532 0.56705953 1.1400174  0.40840439\n",
      " 0.5016331  0.86674004 0.12682371 1.22919841 0.6289997  0.93195381\n",
      " 1.20949547 0.99000107 0.46465993 0.16579402]\n"
     ]
    }
   ],
   "source": [
    "vec = np.random.rand(100,2)\n",
    "\n",
    "x = vec[:, 0]\n",
    "y = vec[:, 1]\n",
    "\n",
    "distance = np.sqrt(x**2 + y**2)\n",
    "\n",
    "print(distance)"
   ]
  },
  {
   "cell_type": "markdown",
   "id": "343c5a85",
   "metadata": {},
   "source": [
    "#### 53. How to convert a float (32 bits) array into an integer (32 bits) in place?"
   ]
  },
  {
   "cell_type": "code",
   "execution_count": 145,
   "id": "fc1b687b",
   "metadata": {},
   "outputs": [
    {
     "name": "stdout",
     "output_type": "stream",
     "text": [
      "[1 2 3]\n",
      "int32\n"
     ]
    }
   ],
   "source": [
    "arr = np.array([1.1, 2.1, 3.1])\n",
    "\n",
    "newarr = arr.astype('i')\n",
    "\n",
    "print(newarr)\n",
    "print(newarr.dtype)"
   ]
  },
  {
   "cell_type": "markdown",
   "id": "a69e1ace",
   "metadata": {},
   "source": [
    "#### 54. How to read the following file?\n",
    "```\n",
    "1, 2, 3, 4, 5\n",
    "6,  ,  , 7, 8\n",
    " ,  , 9,10,11\n",
    "```"
   ]
  },
  {
   "cell_type": "code",
   "execution_count": 7,
   "id": "1c7957d4",
   "metadata": {},
   "outputs": [
    {
     "name": "stdout",
     "output_type": "stream",
     "text": [
      "[[ 1  2  3  4  5]\n",
      " [ 6 -1 -1  7  8]\n",
      " [-1 -1  9 10 11]]\n"
     ]
    }
   ],
   "source": [
    "from io import StringIO\n",
    "\n",
    "# Fake file\n",
    "s = StringIO('''1, 2, 3, 4, 5\n",
    "\n",
    "                6,  ,  , 7, 8\n",
    "\n",
    "                 ,  , 9,10,11\n",
    "''')\n",
    "\n",
    "arr = np.genfromtxt(s, delimiter=\",\", dtype=np.int64)\n",
    "print(arr)"
   ]
  },
  {
   "cell_type": "markdown",
   "id": "c23bd80d",
   "metadata": {},
   "source": [
    "#### 55. What is the equivalent of enumerate for numpy arrays?"
   ]
  },
  {
   "cell_type": "code",
   "execution_count": 146,
   "id": "d95d9578",
   "metadata": {},
   "outputs": [
    {
     "name": "stdout",
     "output_type": "stream",
     "text": [
      "(0, 0) 1\n",
      "(0, 1) 2\n",
      "(0, 2) 3\n",
      "(1, 0) 4\n",
      "(1, 1) 5\n",
      "(1, 2) 6\n"
     ]
    }
   ],
   "source": [
    "import numpy as np\n",
    "\n",
    "arr = np.array([[1, 2, 3], [4, 5, 6]])\n",
    "\n",
    "for index, value in np.ndenumerate(arr):\n",
    "    print(index, value)"
   ]
  },
  {
   "cell_type": "markdown",
   "id": "2153a5ec",
   "metadata": {},
   "source": [
    "#### 56. Generate a generic 2D Gaussian-like array"
   ]
  },
  {
   "cell_type": "code",
   "execution_count": 15,
   "id": "39381ae7",
   "metadata": {},
   "outputs": [
    {
     "name": "stdout",
     "output_type": "stream",
     "text": [
      "[[0.36787944 0.53526143 0.60653066 0.53526143 0.36787944]\n",
      " [0.53526143 0.77880078 0.8824969  0.77880078 0.53526143]\n",
      " [0.60653066 0.8824969  1.         0.8824969  0.60653066]\n",
      " [0.53526143 0.77880078 0.8824969  0.77880078 0.53526143]\n",
      " [0.36787944 0.53526143 0.60653066 0.53526143 0.36787944]]\n"
     ]
    }
   ],
   "source": [
    "X, Y = np.meshgrid(np.linspace(-1,1,5), \n",
    "                   np.linspace(-1,1,5))\n",
    "\n",
    "D = np.sqrt(X*X+Y*Y)\n",
    "sigma, mu = 1.0, 0.0\n",
    "G = np.exp(-( (D-mu)**2 / ( 2.0 * sigma**2 ) ) )\n",
    "\n",
    "print(G)"
   ]
  },
  {
   "cell_type": "markdown",
   "id": "2e76d589",
   "metadata": {},
   "source": [
    "#### 57. How to randomly place p elements in a 2D array?"
   ]
  },
  {
   "cell_type": "code",
   "execution_count": 21,
   "id": "0c2e4fcc",
   "metadata": {},
   "outputs": [
    {
     "name": "stdout",
     "output_type": "stream",
     "text": [
      "[[0. 0. 0. 0. 4.]\n",
      " [4. 0. 4. 0. 0.]\n",
      " [0. 0. 0. 0. 4.]\n",
      " [4. 4. 0. 0. 0.]\n",
      " [0. 0. 4. 0. 4.]]\n"
     ]
    }
   ],
   "source": [
    "arr = np.zeros((5,5))\n",
    "p = 8\n",
    "n = 4\n",
    "np.put(arr, np.random.choice(range(5*5), p, replace=False), n)\n",
    "print(arr)"
   ]
  },
  {
   "cell_type": "markdown",
   "id": "8b3933eb",
   "metadata": {},
   "source": [
    "#### 58. Subtract the mean of each row of a matrix"
   ]
  },
  {
   "cell_type": "code",
   "execution_count": 22,
   "id": "a306c9ef",
   "metadata": {},
   "outputs": [
    {
     "name": "stdout",
     "output_type": "stream",
     "text": [
      "[[ 0.27866241  0.22564637 -0.50430878]\n",
      " [-0.29915748  0.04277744  0.25638004]\n",
      " [-0.01073789 -0.05519289  0.06593078]]\n"
     ]
    }
   ],
   "source": [
    "arr = np.random.rand(3,3)\n",
    "arr_mean = arr.mean(axis=1, keepdims=True)\n",
    "sub_mean = arr - arr_mean\n",
    "\n",
    "print(sub_mean)"
   ]
  },
  {
   "cell_type": "markdown",
   "id": "ea8807c0",
   "metadata": {},
   "source": [
    "#### 59. How to sort an array by the nth column?"
   ]
  },
  {
   "cell_type": "code",
   "execution_count": 28,
   "id": "cc89a699",
   "metadata": {},
   "outputs": [
    {
     "name": "stdout",
     "output_type": "stream",
     "text": [
      "[[1 3 4 2]\n",
      " [3 6 9 7]\n",
      " [2 5 8 1]]\n",
      "[[1 3 4 2]\n",
      " [2 5 8 1]\n",
      " [3 6 9 7]]\n"
     ]
    }
   ],
   "source": [
    "arr = np.array([[1, 3, 4, 2], [3, 6, 9, 7], [2, 5, 8, 1]])\n",
    "n = 1 # 1st column\n",
    "ncol_sort = arr[arr[:, n].argsort()]\n",
    "print(arr)\n",
    "print(ncol_sort)"
   ]
  },
  {
   "cell_type": "markdown",
   "id": "00fa00a1",
   "metadata": {},
   "source": [
    "#### 60. How to tell if a given 2D array has null columns?"
   ]
  },
  {
   "cell_type": "code",
   "execution_count": 30,
   "id": "3436e165",
   "metadata": {},
   "outputs": [
    {
     "name": "stdout",
     "output_type": "stream",
     "text": [
      "[[0 2 0]\n",
      " [0 0 0]\n",
      " [0 8 0]]\n",
      "Index of Null columns: [0 2]\n"
     ]
    }
   ],
   "source": [
    "arr = np.array([[0, 2, 0],\n",
    "                [0, 0, 0],\n",
    "                [0, 8, 0]])\n",
    "\n",
    "null_col = np.all(arr == 0, axis=0)\n",
    "\n",
    "null_col_ind = np.where(null_col)[0]\n",
    "\n",
    "print(arr)\n",
    "print(f\"Index of Null columns: {null_col_ind}\")"
   ]
  },
  {
   "cell_type": "markdown",
   "id": "5a65c7a2",
   "metadata": {},
   "source": [
    "#### 61. Find the nearest value from a given value in an array"
   ]
  },
  {
   "cell_type": "code",
   "execution_count": 39,
   "id": "73f149d6",
   "metadata": {},
   "outputs": [
    {
     "name": "stdout",
     "output_type": "stream",
     "text": [
      "4\n"
     ]
    }
   ],
   "source": [
    "arr = np.array([1, 2, 3, 4, 5])\n",
    "\n",
    "val = 3.6\n",
    "\n",
    "index = np.abs(arr - val).argmin() \n",
    "# np.abs(arr - val) will calculate the absolute difference of the value from each element in the array\n",
    "# .argmin() will get the index of the value with the smallest difference\n",
    "\n",
    "print(arr[index])"
   ]
  },
  {
   "cell_type": "markdown",
   "id": "dd83e8af",
   "metadata": {},
   "source": [
    "#### 62. Considering two arrays with shape (1,3) and (3,1), how to compute their sum using an iterator?"
   ]
  },
  {
   "cell_type": "code",
   "execution_count": 51,
   "id": "29a709a1",
   "metadata": {},
   "outputs": [
    {
     "name": "stdout",
     "output_type": "stream",
     "text": [
      "[[0 1 2]\n",
      " [1 2 3]\n",
      " [2 3 4]]\n"
     ]
    }
   ],
   "source": [
    "arr1 = np.arange(3).reshape(1,3)\n",
    "arr2 = np.arange(3).reshape(3,1)\n",
    "\n",
    "iterat = np.nditer([arr1, arr2, None])\n",
    "for x,y,z in iterat: \n",
    "    z[...] = x + y\n",
    "\n",
    "print(iterat.operands[2])"
   ]
  },
  {
   "cell_type": "markdown",
   "id": "6c042efa",
   "metadata": {},
   "source": [
    "#### 63. Create an array class that has a name attribute"
   ]
  },
  {
   "cell_type": "code",
   "execution_count": 52,
   "id": "45b3d2e0",
   "metadata": {},
   "outputs": [
    {
     "name": "stdout",
     "output_type": "stream",
     "text": [
      "MyArray\n"
     ]
    }
   ],
   "source": [
    "class MyArray(np.ndarray):\n",
    "    def __new__(cls, array, name=\"MyArray\"):\n",
    "        obj = np.asarray(array).view(cls)\n",
    "        obj.name = name\n",
    "        return obj\n",
    "\n",
    "    def __array_finalize__(self, obj):\n",
    "        if obj is None: return\n",
    "        self.info = getattr(obj, 'name', \"MyArray\")\n",
    "\n",
    "arr = np.arange(10)\n",
    "myarr = MyArray(arr)\n",
    "print(myarr.name)"
   ]
  },
  {
   "cell_type": "markdown",
   "id": "0a075c3d",
   "metadata": {},
   "source": [
    "#### 64. Consider a given vector, how to add 1 to each element indexed by a second vector (be careful with repeated indices)?"
   ]
  },
  {
   "cell_type": "code",
   "execution_count": 57,
   "id": "36c50470",
   "metadata": {},
   "outputs": [
    {
     "name": "stdout",
     "output_type": "stream",
     "text": [
      "[3. 5. 3. 2. 4. 2. 1. 4. 2. 4.]\n"
     ]
    }
   ],
   "source": [
    "vec1 = np.ones(10)\n",
    "vec2 = np.random.randint(0,len(vec1),20)\n",
    "np.add.at(vec1, vec2, 1)\n",
    "\n",
    "print(vec1)"
   ]
  },
  {
   "cell_type": "markdown",
   "id": "0fb2f0c5",
   "metadata": {},
   "source": [
    "#### 65. How to accumulate elements of a vector (X) to an array (F) based on an index list (I)?"
   ]
  },
  {
   "cell_type": "code",
   "execution_count": 58,
   "id": "58aa5f82",
   "metadata": {},
   "outputs": [
    {
     "name": "stdout",
     "output_type": "stream",
     "text": [
      "[0. 7. 0. 6. 5. 0. 0. 0. 0. 3.]\n"
     ]
    }
   ],
   "source": [
    "X = [1,2,3,4,5,6]\n",
    "I = [1,3,9,3,4,1]\n",
    "\n",
    "F = np.bincount(I,X)\n",
    "print(F)"
   ]
  },
  {
   "cell_type": "markdown",
   "id": "d89dc506",
   "metadata": {},
   "source": [
    "#### 66. Considering a (w,h,3) image of (dtype=ubyte), compute the number of unique colors"
   ]
  },
  {
   "cell_type": "code",
   "execution_count": 60,
   "id": "8fb43a49",
   "metadata": {},
   "outputs": [
    {
     "name": "stdout",
     "output_type": "stream",
     "text": [
      "64\n"
     ]
    }
   ],
   "source": [
    "w, h = 256, 256\n",
    "Img = np.random.randint(0, 4, (h, w, 3)).astype(np.ubyte)\n",
    "colors = np.unique(Img.reshape(-1, 3), axis=0)\n",
    "\n",
    "print(len(colors))"
   ]
  },
  {
   "cell_type": "markdown",
   "id": "535a5d81",
   "metadata": {},
   "source": [
    "#### 67. Considering a four dimensions array, how to get sum over the last two axis at once?"
   ]
  },
  {
   "cell_type": "code",
   "execution_count": 65,
   "id": "f954ab9d",
   "metadata": {},
   "outputs": [
    {
     "name": "stdout",
     "output_type": "stream",
     "text": [
      "[[1.84452644 2.17501302]\n",
      " [1.91361861 1.9693392 ]]\n"
     ]
    }
   ],
   "source": [
    "arr = np.random.rand(2, 2, 2, 2)\n",
    "\n",
    "sums = arr.sum(axis=(-2,-1))\n",
    "\n",
    "print(sums)"
   ]
  },
  {
   "cell_type": "markdown",
   "id": "eee66d3c",
   "metadata": {},
   "source": [
    "#### 68. Considering a one-dimensional vector D, how to compute means of subsets of D using a vector S of same size describing subset  indices?"
   ]
  },
  {
   "cell_type": "code",
   "execution_count": 67,
   "id": "8929773a",
   "metadata": {},
   "outputs": [
    {
     "name": "stdout",
     "output_type": "stream",
     "text": [
      "[0.31030285 0.35387346 0.45333845 0.73054711 0.29586504 0.42106519\n",
      " 0.56413864 0.53151763 0.29270558 0.4851407 ]\n"
     ]
    }
   ],
   "source": [
    "D = np.random.uniform(0,1,100)\n",
    "S = np.random.randint(0,10,100)\n",
    "\n",
    "D_sums = np.bincount(S, weights=D)\n",
    "D_counts = np.bincount(S)\n",
    "\n",
    "D_means = D_sums / D_counts\n",
    "print(D_means)"
   ]
  },
  {
   "cell_type": "markdown",
   "id": "f90d4c40",
   "metadata": {},
   "source": [
    "#### 69. How to get the diagonal of a dot product?"
   ]
  },
  {
   "cell_type": "code",
   "execution_count": 73,
   "id": "b47d392d",
   "metadata": {},
   "outputs": [
    {
     "name": "stdout",
     "output_type": "stream",
     "text": [
      "[[1.58085029 0.92340111 1.42518899 1.23502615 0.84868561]\n",
      " [1.88048977 1.29288533 1.68661184 1.56283238 1.23186225]\n",
      " [0.62942773 0.93915481 0.71462783 0.65932494 1.07628889]\n",
      " [0.98970948 0.61173474 0.977141   0.78574699 0.60709785]\n",
      " [1.360757   1.17341975 1.3098011  1.3546264  1.57724915]]\n",
      "\n",
      "[1.58085029 1.29288533 0.71462783 0.78574699 1.57724915]\n"
     ]
    }
   ],
   "source": [
    "arr1 = np.random.uniform(0,1,(5,5))\n",
    "arr2 = np.random.uniform(0,1,(5,5))\n",
    "dot_product = np.dot(arr1, arr2)\n",
    "diagonal_dot_product = np.diag(dot_product)\n",
    "\n",
    "print(dot_product)\n",
    "print()\n",
    "print(diagonal_dot_product)"
   ]
  },
  {
   "cell_type": "markdown",
   "id": "a8a97e7d",
   "metadata": {},
   "source": [
    "#### 70. Consider the vector [1, 2, 3, 4, 5], how to build a new vector with 3 consecutive zeros interleaved between each value?"
   ]
  },
  {
   "cell_type": "code",
   "execution_count": 78,
   "id": "ee6c6c37",
   "metadata": {},
   "outputs": [
    {
     "name": "stdout",
     "output_type": "stream",
     "text": [
      "[1 0 0 0 2 0 0 0 3 0 0 0 4 0 0 0 5]\n"
     ]
    }
   ],
   "source": [
    "original_vector = np.array([1, 2, 3, 4, 5])\n",
    "\n",
    "num_zeros = 3\n",
    "\n",
    "new_length = len(original_vector) + (len(original_vector) - 1) * num_zeros \n",
    "new_vector = np.zeros(new_length, dtype=int)\n",
    "\n",
    "new_vector[::num_zeros + 1] = original_vector  # for num_zeros = 3, new_vector[::4] means selcting every 4th element\n",
    "\n",
    "print(new_vector)\n"
   ]
  },
  {
   "cell_type": "markdown",
   "id": "d6a30d60",
   "metadata": {},
   "source": [
    "#### 71. Consider an array of dimension (5,5,3), how to mulitply it by an array with dimensions (5,5)?"
   ]
  },
  {
   "cell_type": "code",
   "execution_count": 3,
   "id": "e9703f2e",
   "metadata": {},
   "outputs": [
    {
     "name": "stdout",
     "output_type": "stream",
     "text": [
      "[[[0.07351869 0.44394764 0.58468946]\n",
      "  [0.33231224 0.20369492 0.19655903]\n",
      "  [0.62155444 0.14513221 0.41549726]\n",
      "  [0.53045342 0.76801808 0.33355653]\n",
      "  [0.14891428 0.89153297 0.58066119]]\n",
      "\n",
      " [[0.3694317  0.25058202 0.04729422]\n",
      "  [0.00377583 0.00721153 0.00712131]\n",
      "  [0.12139685 0.01393851 0.05766396]\n",
      "  [0.40413868 0.19011821 0.15031164]\n",
      "  [0.14527557 0.13777807 0.10337746]]\n",
      "\n",
      " [[0.09744791 0.07260453 0.01770412]\n",
      "  [0.18188687 0.11256587 0.01440722]\n",
      "  [0.02653395 0.35197942 0.2569885 ]\n",
      "  [0.10028183 0.07906342 0.08635031]\n",
      "  [0.67573165 0.8861217  0.24996209]]\n",
      "\n",
      " [[0.21053857 0.43702559 0.04655147]\n",
      "  [0.39127228 0.24853728 0.89448752]\n",
      "  [0.55076222 0.43800408 0.12557536]\n",
      "  [0.1466998  0.53006206 0.10759245]\n",
      "  [0.498554   0.83524805 0.31286197]]\n",
      "\n",
      " [[0.08978788 0.44948765 0.26379588]\n",
      "  [0.03695874 0.10125432 0.01376308]\n",
      "  [0.01456427 0.65185318 0.48777124]\n",
      "  [0.25754768 0.63324818 0.04718517]\n",
      "  [0.50355122 0.075726   0.52946415]]]\n"
     ]
    }
   ],
   "source": [
    "arr = np.random.rand(5, 5, 3)\n",
    "arr2 = np.random.rand(5, 5)\n",
    "\n",
    "arr_multiplied = arr * arr2[:, :, np.newaxis] # this line means that arr2[:, :, np.newaxis] will be added to each element of arr. \n",
    "# this is called broadcasting method, in which the shape of the result will be the same as the shape of the operands\n",
    "\n",
    "print(arr_multiplied)"
   ]
  },
  {
   "cell_type": "markdown",
   "id": "bac359a9",
   "metadata": {},
   "source": [
    "#### 72. How to swap two rows of an array?"
   ]
  },
  {
   "cell_type": "code",
   "execution_count": 5,
   "id": "f1b432b1",
   "metadata": {},
   "outputs": [
    {
     "name": "stdout",
     "output_type": "stream",
     "text": [
      "[[1 2 3]\n",
      " [7 8 9]\n",
      " [4 5 6]]\n"
     ]
    }
   ],
   "source": [
    "arr = np.array([[1, 2, 3],\n",
    "                [4, 5, 6],\n",
    "                [7, 8, 9]])\n",
    "\n",
    "arr[[1, 2]] = arr[[2, 1]]\n",
    "\n",
    "print(arr)"
   ]
  },
  {
   "cell_type": "markdown",
   "id": "620c9f83",
   "metadata": {},
   "source": [
    "#### 73. Consider a set of 10 triplets describing 10 triangles (with shared vertices), find the set of unique line segments composing all the  triangles"
   ]
  },
  {
   "cell_type": "code",
   "execution_count": null,
   "id": "70de053d",
   "metadata": {},
   "outputs": [],
   "source": []
  },
  {
   "cell_type": "markdown",
   "id": "a76c55a2",
   "metadata": {},
   "source": [
    "#### 74. Given a sorted array C that corresponds to a bincount, how to produce an array A such that np.bincount(A) == C?"
   ]
  },
  {
   "cell_type": "code",
   "execution_count": 6,
   "id": "2d2ae65a",
   "metadata": {},
   "outputs": [
    {
     "name": "stdout",
     "output_type": "stream",
     "text": [
      "[1 1 2 3 4 4 6]\n"
     ]
    }
   ],
   "source": [
    "C = np.bincount([1, 1, 2, 3, 4, 4, 6])\n",
    "A = np.repeat(np.arange(len(C)), C)\n",
    "\n",
    "print(A)"
   ]
  },
  {
   "cell_type": "markdown",
   "id": "d550c8e2",
   "metadata": {},
   "source": [
    "#### 75. How to compute averages using a sliding window over an array?"
   ]
  },
  {
   "cell_type": "code",
   "execution_count": 8,
   "id": "841c457c",
   "metadata": {},
   "outputs": [
    {
     "name": "stdout",
     "output_type": "stream",
     "text": [
      "[2. 3. 4. 5. 6. 7. 8. 9.]\n"
     ]
    }
   ],
   "source": [
    "def sliding_window_average(arr, k):\n",
    "    # Pad the array\n",
    "    cumsum = np.cumsum(arr)\n",
    "    cumsum[k:] = cumsum[k:] - cumsum[:-k]\n",
    "    \n",
    "    # sliding window average\n",
    "    averages = cumsum[k - 1:] / k\n",
    "    return averages\n",
    "\n",
    "arr = np.array([1, 2, 3, 4, 5, 6, 7, 8, 9, 10])\n",
    "k = 3  \n",
    "\n",
    "result = sliding_window_average(arr, k)\n",
    "print(result)"
   ]
  },
  {
   "cell_type": "markdown",
   "id": "6b170b00",
   "metadata": {},
   "source": [
    "#### 76. Consider a one-dimensional array Z, build a two-dimensional array whose first row is (Z[0],Z[1],Z[2]) and each subsequent row is  shifted by 1 (last row should be (Z[-3],Z[-2],Z[-1])"
   ]
  },
  {
   "cell_type": "code",
   "execution_count": 4,
   "id": "d9a0cf4e",
   "metadata": {},
   "outputs": [
    {
     "name": "stdout",
     "output_type": "stream",
     "text": [
      "[[1 2 3]\n",
      " [2 3 4]\n",
      " [3 4 5]\n",
      " [4 5 6]\n",
      " [5 6 7]]\n"
     ]
    }
   ],
   "source": [
    "Z = np.array([1, 2, 3, 4, 5, 6, 7])\n",
    "\n",
    "n_cols = 3  # Since each row has 3 elements\n",
    "\n",
    "# Compute the number of rows needed\n",
    "n_rows = len(Z) - n_cols + 1\n",
    "\n",
    "result = np.array([Z[i:i+n_cols] for i in range(n_rows)])\n",
    "\n",
    "print(result)"
   ]
  },
  {
   "cell_type": "markdown",
   "id": "e94a5c1d",
   "metadata": {},
   "source": [
    "#### 77. How to negate a boolean, or to change the sign of a float inplace?"
   ]
  },
  {
   "cell_type": "code",
   "execution_count": 7,
   "id": "c0f9504f",
   "metadata": {},
   "outputs": [
    {
     "name": "stdout",
     "output_type": "stream",
     "text": [
      "[1 0 0 1 0 0 1 0 0 1]\n",
      "[ 0.30316718 -0.97083104 -0.30029864  0.59833317 -0.24622687 -0.12825525\n",
      " -0.17903656  0.73023704  0.19501085 -0.35468501]\n"
     ]
    }
   ],
   "source": [
    "arr1 = np.random.randint(0,2,10)\n",
    "print(np.logical_not(arr1, out=arr1))\n",
    "\n",
    "arr2 = np.random.uniform(-1.0,1.0,10)\n",
    "print(np.negative(arr2, out=arr2))"
   ]
  },
  {
   "cell_type": "markdown",
   "id": "4eb8b5c1",
   "metadata": {},
   "source": [
    "#### 78. Consider 2 sets of points P0,P1 describing lines (2d) and a point p, how to compute distance from p to each line i (P0[i],P1[i])?"
   ]
  },
  {
   "cell_type": "code",
   "execution_count": 8,
   "id": "487f47ec",
   "metadata": {},
   "outputs": [
    {
     "name": "stdout",
     "output_type": "stream",
     "text": [
      "[ 6.82042885  1.3823253   0.43536665  7.73228897  2.41682313 13.73832223\n",
      "  7.80216586  5.36955531  8.91433164  1.60578998]\n"
     ]
    }
   ],
   "source": [
    "def distance_point_to_line(P0, P1, p):\n",
    "    x0, y0 = p[...,0], p[..., 1]\n",
    "    \n",
    "    x1, y1 = P0[:, 0], P0[:, 1]\n",
    "    x2, y2 = P1[:, 0], P1[:, 1]\n",
    "\n",
    "    numerator = np.abs((y2 - y1) * x0 - (x2 - x1) * y0 + x2 * y1 - y2 * x1)\n",
    "    denominator = np.sqrt((y2 - y1)**2 + (x2 - x1)**2)\n",
    "    distance = numerator / denominator\n",
    "    \n",
    "    return distance\n",
    "P0 = np.random.uniform(-10,10,(10,2))\n",
    "P1 = np.random.uniform(-10,10,(10,2))\n",
    "p  = np.random.uniform(-10,10,( 1,2))\n",
    "\n",
    "distances = distance_point_to_line(P0, P1, p)\n",
    "print(distances)"
   ]
  },
  {
   "cell_type": "markdown",
   "id": "3df99948",
   "metadata": {},
   "source": [
    "#### 79. Consider 2 sets of points P0,P1 describing lines (2d) and a set of points P, how to compute distance from each point j (P[j]) to each line i (P0[i],P1[i])?"
   ]
  },
  {
   "cell_type": "code",
   "execution_count": 9,
   "id": "dc2df37b",
   "metadata": {},
   "outputs": [
    {
     "name": "stdout",
     "output_type": "stream",
     "text": [
      "[array([ 6.71828608,  3.47919853,  1.80176239,  6.86814367,  5.48347593,\n",
      "        2.06389021,  8.61194333,  3.34806896, 13.57498791,  4.32577985]), array([ 2.21658658,  0.76743069,  5.83800416,  1.55830507,  6.36188035,\n",
      "        3.36427173,  7.21297565,  0.97804084, 12.04908779,  1.04338665]), array([10.35505225,  7.42317462,  2.36454388,  5.06184047,  0.22323573,\n",
      "        3.87584447,  3.09198202,  7.20115244,  8.09385401,  6.32646711]), array([6.0823422 , 3.30848524, 1.61471845, 1.0206239 , 1.42901659,\n",
      "       0.85469561, 2.85347997, 3.03643145, 7.74531317, 1.6131999 ]), array([12.97800415, 10.10006275,  5.07366117,  5.74999369,  2.70706557,\n",
      "        6.02310645,  1.28272723,  9.86314189,  6.33341256,  8.53264391]), array([ 6.14595755,  9.20401758, 14.302506  ,  1.79860869, 13.32757276,\n",
      "       10.70111863, 11.71261873,  9.39671655, 16.38094792,  8.52296977]), array([9.94352216, 7.38675145, 2.61622674, 0.3983679 , 3.56785943,\n",
      "       1.61593997, 1.59381372, 7.05115867, 3.35278393, 4.23397629]), array([ 0.5236522 ,  2.45827664,  7.52144867,  0.67589629,  7.60576749,\n",
      "        4.93518034,  7.90262826,  2.67042144, 12.70265399,  2.63532576]), array([7.23754435e+00, 5.05560370e+00, 5.80841311e-01, 5.42413596e+00,\n",
      "       5.19638071e+00, 2.75745131e+00, 5.30465805e+00, 4.60529939e+00,\n",
      "       4.61857235e-01, 1.93520715e-03]), array([16.01906645, 13.47152321,  8.68721736,  3.36652146,  8.19468252,\n",
      "        7.16972579,  4.28547546, 13.13638471,  0.78855198,  9.87093728])]\n"
     ]
    }
   ],
   "source": [
    "# using the function from above problem\n",
    "P0 = np.random.uniform(-10,10,(10,2))\n",
    "P1 = np.random.uniform(-10,10,(10,2))\n",
    "p  = np.random.uniform(-10,10,(10,2))\n",
    "\n",
    "distances = [distance_point_to_line(P0,P1,x) for x in p] \n",
    "\n",
    "print(distances)"
   ]
  },
  {
   "cell_type": "markdown",
   "id": "11e972c2",
   "metadata": {},
   "source": [
    "#### 80. Consider an arbitrary array, write a function that extract a subpart with a fixed shape and centered on a given element (pad with a `fill` value when necessary)"
   ]
  },
  {
   "cell_type": "code",
   "execution_count": null,
   "id": "84322ac2",
   "metadata": {},
   "outputs": [],
   "source": []
  },
  {
   "cell_type": "markdown",
   "id": "93cfeab3",
   "metadata": {},
   "source": [
    "#### 81. Consider an array Z = [1,2,3,4,5,6,7,8,9,10,11,12,13,14], how to generate an array R = [[1,2,3,4], [2,3,4,5], [3,4,5,6], ..., [11,12,13,14]]?"
   ]
  },
  {
   "cell_type": "code",
   "execution_count": 16,
   "id": "360de791",
   "metadata": {},
   "outputs": [
    {
     "name": "stdout",
     "output_type": "stream",
     "text": [
      "[[ 1  2  3  4]\n",
      " [ 2  3  4  5]\n",
      " [ 3  4  5  6]\n",
      " [ 4  5  6  7]\n",
      " [ 5  6  7  8]\n",
      " [ 6  7  8  9]\n",
      " [ 7  8  9 10]\n",
      " [ 8  9 10 11]\n",
      " [ 9 10 11 12]\n",
      " [10 11 12 13]\n",
      " [11 12 13 14]]\n"
     ]
    }
   ],
   "source": [
    "Z = np.arange(0,15)\n",
    "\n",
    "n_cols = 4 \n",
    "\n",
    "# Compute the number of rows needed\n",
    "n_rows = len(Z) - n_cols + 1\n",
    "\n",
    "result = np.array([Z[i:i+n_cols] for i in range(n_rows)])\n",
    "\n",
    "\n",
    "print(result[1:])"
   ]
  },
  {
   "cell_type": "markdown",
   "id": "4c15ceff",
   "metadata": {},
   "source": [
    "#### 82. Compute a matrix rank (★★★)"
   ]
  },
  {
   "cell_type": "code",
   "execution_count": 19,
   "id": "9a4272d2",
   "metadata": {},
   "outputs": [
    {
     "name": "stdout",
     "output_type": "stream",
     "text": [
      "10\n"
     ]
    },
    {
     "data": {
      "text/plain": [
       "(None,\n",
       " array([[3.88870805, 6.72430796, 4.74455488, 7.65688205, 4.417793  ,\n",
       "         3.61341736, 1.6887811 , 5.05267067, 1.47071419, 8.67369689],\n",
       "        [1.20818072, 1.19661278, 3.72398425, 1.60015826, 2.80973775,\n",
       "         5.74999526, 1.98780169, 6.01678095, 9.36685807, 6.63362647],\n",
       "        [1.52395826, 9.5056831 , 9.94897287, 9.33953534, 0.39605395,\n",
       "         9.26265524, 4.32424003, 3.50594846, 1.74890223, 5.7529843 ],\n",
       "        [4.57261372, 9.54393534, 3.48049202, 8.73709749, 5.92790218,\n",
       "         7.24133476, 1.60647494, 6.28776872, 0.99603695, 3.36430075],\n",
       "        [1.98679483, 5.24323052, 6.61361021, 6.33470893, 4.26737362,\n",
       "         5.94126023, 5.65539096, 6.92133349, 7.01316512, 1.10908403],\n",
       "        [7.15775768, 7.06930222, 5.63897265, 6.42524048, 7.13504845,\n",
       "         3.53277798, 5.62083982, 5.5969362 , 8.9830979 , 5.52974373],\n",
       "        [4.66526836, 7.06566369, 0.23289384, 3.35958874, 2.68249293,\n",
       "         1.23987227, 8.00769465, 8.2289483 , 5.78856921, 3.22683844],\n",
       "        [1.69568377, 6.02580319, 7.46510705, 1.76224547, 3.98486291,\n",
       "         5.63236274, 0.3399946 , 1.05518852, 9.6251152 , 1.23828841],\n",
       "        [9.07020702, 7.96310653, 5.89708056, 7.21396058, 2.84177003,\n",
       "         5.62741662, 6.47991906, 7.19977119, 9.18482355, 6.48818205],\n",
       "        [0.28587898, 2.48503169, 8.53863688, 0.97635739, 1.6081098 ,\n",
       "         7.35196892, 7.4994056 , 7.18326524, 5.66837861, 2.51178478]]))"
      ]
     },
     "execution_count": 19,
     "metadata": {},
     "output_type": "execute_result"
    }
   ],
   "source": [
    "Z = np.random.uniform(0,10,(10,10))\n",
    "rank = np.linalg.matrix_rank(Z)\n",
    "print(rank), Z"
   ]
  },
  {
   "cell_type": "markdown",
   "id": "1171cb84",
   "metadata": {},
   "source": [
    "#### 83. How to find the most frequent value in an array?"
   ]
  },
  {
   "cell_type": "code",
   "execution_count": 20,
   "id": "33e951c8",
   "metadata": {},
   "outputs": [
    {
     "name": "stdout",
     "output_type": "stream",
     "text": [
      "3\n"
     ]
    }
   ],
   "source": [
    "arr = np.array([1, 2, 3, 2, 2, 3, 1, 3, 3, 3])\n",
    "most_frequent_value = np.bincount(arr).argmax()\n",
    "print(most_frequent_value)"
   ]
  },
  {
   "cell_type": "markdown",
   "id": "04f472aa",
   "metadata": {},
   "source": [
    "#### 84. Extract all the contiguous 3x3 blocks from a random 10x10 matrix"
   ]
  },
  {
   "cell_type": "code",
   "execution_count": 21,
   "id": "7aade14a",
   "metadata": {},
   "outputs": [
    {
     "name": "stdout",
     "output_type": "stream",
     "text": [
      "[[[[4 1 4]\n",
      "   [2 1 1]\n",
      "   [0 0 0]]\n",
      "\n",
      "  [[1 4 0]\n",
      "   [1 1 2]\n",
      "   [0 0 3]]\n",
      "\n",
      "  [[4 0 1]\n",
      "   [1 2 0]\n",
      "   [0 3 1]]\n",
      "\n",
      "  [[0 1 4]\n",
      "   [2 0 3]\n",
      "   [3 1 3]]\n",
      "\n",
      "  [[1 4 3]\n",
      "   [0 3 4]\n",
      "   [1 3 1]]\n",
      "\n",
      "  [[4 3 3]\n",
      "   [3 4 0]\n",
      "   [3 1 2]]\n",
      "\n",
      "  [[3 3 4]\n",
      "   [4 0 2]\n",
      "   [1 2 4]]\n",
      "\n",
      "  [[3 4 3]\n",
      "   [0 2 4]\n",
      "   [2 4 2]]]\n",
      "\n",
      "\n",
      " [[[2 1 1]\n",
      "   [0 0 0]\n",
      "   [4 2 1]]\n",
      "\n",
      "  [[1 1 2]\n",
      "   [0 0 3]\n",
      "   [2 1 2]]\n",
      "\n",
      "  [[1 2 0]\n",
      "   [0 3 1]\n",
      "   [1 2 2]]\n",
      "\n",
      "  [[2 0 3]\n",
      "   [3 1 3]\n",
      "   [2 2 1]]\n",
      "\n",
      "  [[0 3 4]\n",
      "   [1 3 1]\n",
      "   [2 1 1]]\n",
      "\n",
      "  [[3 4 0]\n",
      "   [3 1 2]\n",
      "   [1 1 3]]\n",
      "\n",
      "  [[4 0 2]\n",
      "   [1 2 4]\n",
      "   [1 3 4]]\n",
      "\n",
      "  [[0 2 4]\n",
      "   [2 4 2]\n",
      "   [3 4 2]]]\n",
      "\n",
      "\n",
      " [[[0 0 0]\n",
      "   [4 2 1]\n",
      "   [3 0 4]]\n",
      "\n",
      "  [[0 0 3]\n",
      "   [2 1 2]\n",
      "   [0 4 4]]\n",
      "\n",
      "  [[0 3 1]\n",
      "   [1 2 2]\n",
      "   [4 4 4]]\n",
      "\n",
      "  [[3 1 3]\n",
      "   [2 2 1]\n",
      "   [4 4 4]]\n",
      "\n",
      "  [[1 3 1]\n",
      "   [2 1 1]\n",
      "   [4 4 0]]\n",
      "\n",
      "  [[3 1 2]\n",
      "   [1 1 3]\n",
      "   [4 0 4]]\n",
      "\n",
      "  [[1 2 4]\n",
      "   [1 3 4]\n",
      "   [0 4 1]]\n",
      "\n",
      "  [[2 4 2]\n",
      "   [3 4 2]\n",
      "   [4 1 1]]]\n",
      "\n",
      "\n",
      " [[[4 2 1]\n",
      "   [3 0 4]\n",
      "   [4 0 4]]\n",
      "\n",
      "  [[2 1 2]\n",
      "   [0 4 4]\n",
      "   [0 4 1]]\n",
      "\n",
      "  [[1 2 2]\n",
      "   [4 4 4]\n",
      "   [4 1 4]]\n",
      "\n",
      "  [[2 2 1]\n",
      "   [4 4 4]\n",
      "   [1 4 3]]\n",
      "\n",
      "  [[2 1 1]\n",
      "   [4 4 0]\n",
      "   [4 3 1]]\n",
      "\n",
      "  [[1 1 3]\n",
      "   [4 0 4]\n",
      "   [3 1 0]]\n",
      "\n",
      "  [[1 3 4]\n",
      "   [0 4 1]\n",
      "   [1 0 4]]\n",
      "\n",
      "  [[3 4 2]\n",
      "   [4 1 1]\n",
      "   [0 4 3]]]\n",
      "\n",
      "\n",
      " [[[3 0 4]\n",
      "   [4 0 4]\n",
      "   [1 2 1]]\n",
      "\n",
      "  [[0 4 4]\n",
      "   [0 4 1]\n",
      "   [2 1 4]]\n",
      "\n",
      "  [[4 4 4]\n",
      "   [4 1 4]\n",
      "   [1 4 4]]\n",
      "\n",
      "  [[4 4 4]\n",
      "   [1 4 3]\n",
      "   [4 4 0]]\n",
      "\n",
      "  [[4 4 0]\n",
      "   [4 3 1]\n",
      "   [4 0 0]]\n",
      "\n",
      "  [[4 0 4]\n",
      "   [3 1 0]\n",
      "   [0 0 3]]\n",
      "\n",
      "  [[0 4 1]\n",
      "   [1 0 4]\n",
      "   [0 3 1]]\n",
      "\n",
      "  [[4 1 1]\n",
      "   [0 4 3]\n",
      "   [3 1 2]]]\n",
      "\n",
      "\n",
      " [[[4 0 4]\n",
      "   [1 2 1]\n",
      "   [3 2 1]]\n",
      "\n",
      "  [[0 4 1]\n",
      "   [2 1 4]\n",
      "   [2 1 4]]\n",
      "\n",
      "  [[4 1 4]\n",
      "   [1 4 4]\n",
      "   [1 4 4]]\n",
      "\n",
      "  [[1 4 3]\n",
      "   [4 4 0]\n",
      "   [4 4 3]]\n",
      "\n",
      "  [[4 3 1]\n",
      "   [4 0 0]\n",
      "   [4 3 3]]\n",
      "\n",
      "  [[3 1 0]\n",
      "   [0 0 3]\n",
      "   [3 3 2]]\n",
      "\n",
      "  [[1 0 4]\n",
      "   [0 3 1]\n",
      "   [3 2 3]]\n",
      "\n",
      "  [[0 4 3]\n",
      "   [3 1 2]\n",
      "   [2 3 1]]]\n",
      "\n",
      "\n",
      " [[[1 2 1]\n",
      "   [3 2 1]\n",
      "   [3 4 0]]\n",
      "\n",
      "  [[2 1 4]\n",
      "   [2 1 4]\n",
      "   [4 0 0]]\n",
      "\n",
      "  [[1 4 4]\n",
      "   [1 4 4]\n",
      "   [0 0 2]]\n",
      "\n",
      "  [[4 4 0]\n",
      "   [4 4 3]\n",
      "   [0 2 2]]\n",
      "\n",
      "  [[4 0 0]\n",
      "   [4 3 3]\n",
      "   [2 2 1]]\n",
      "\n",
      "  [[0 0 3]\n",
      "   [3 3 2]\n",
      "   [2 1 4]]\n",
      "\n",
      "  [[0 3 1]\n",
      "   [3 2 3]\n",
      "   [1 4 1]]\n",
      "\n",
      "  [[3 1 2]\n",
      "   [2 3 1]\n",
      "   [4 1 2]]]\n",
      "\n",
      "\n",
      " [[[3 2 1]\n",
      "   [3 4 0]\n",
      "   [4 1 3]]\n",
      "\n",
      "  [[2 1 4]\n",
      "   [4 0 0]\n",
      "   [1 3 0]]\n",
      "\n",
      "  [[1 4 4]\n",
      "   [0 0 2]\n",
      "   [3 0 1]]\n",
      "\n",
      "  [[4 4 3]\n",
      "   [0 2 2]\n",
      "   [0 1 0]]\n",
      "\n",
      "  [[4 3 3]\n",
      "   [2 2 1]\n",
      "   [1 0 2]]\n",
      "\n",
      "  [[3 3 2]\n",
      "   [2 1 4]\n",
      "   [0 2 3]]\n",
      "\n",
      "  [[3 2 3]\n",
      "   [1 4 1]\n",
      "   [2 3 4]]\n",
      "\n",
      "  [[2 3 1]\n",
      "   [4 1 2]\n",
      "   [3 4 4]]]]\n"
     ]
    }
   ],
   "source": [
    "from numpy.lib.stride_tricks import sliding_window_view\n",
    "\n",
    "Z = np.random.randint(0,5,(10,10))\n",
    "print(sliding_window_view(Z, window_shape=(3, 3)))"
   ]
  },
  {
   "cell_type": "markdown",
   "id": "52836346",
   "metadata": {},
   "source": [
    "#### 85. Create a 2D array subclass such that Z[i,j] == Z[j,i]"
   ]
  },
  {
   "cell_type": "code",
   "execution_count": 23,
   "id": "4df70318",
   "metadata": {},
   "outputs": [
    {
     "name": "stdout",
     "output_type": "stream",
     "text": [
      "10\n"
     ]
    }
   ],
   "source": [
    "class SymmetricArray:\n",
    "    def __init__(self, size):\n",
    "        self.size = size\n",
    "        self.data = [[0] * size for _ in range(size)]\n",
    "\n",
    "    def __getitem__(self, indices):\n",
    "        i, j = indices\n",
    "        return self.data[i][j]\n",
    "\n",
    "    def __setitem__(self, indices, value):\n",
    "        i, j = indices\n",
    "        self.data[i][j] = value\n",
    "        self.data[j][i] = value\n",
    "\n",
    "size = 3\n",
    "Z = SymmetricArray(size)\n",
    "\n",
    "Z[0, 1] = 10\n",
    "print(Z[1, 0])"
   ]
  },
  {
   "cell_type": "markdown",
   "id": "78c43ee5",
   "metadata": {},
   "source": [
    "#### 86. Consider a set of p matrices with shape (n,n) and a set of p vectors with shape (n,1). How to compute the sum of of the p matrix products at once? (result has shape (n,1))"
   ]
  },
  {
   "cell_type": "code",
   "execution_count": 24,
   "id": "32fd2c3b",
   "metadata": {},
   "outputs": [
    {
     "name": "stdout",
     "output_type": "stream",
     "text": [
      "[[3.12166731]\n",
      " [3.42934784]\n",
      " [5.13488137]]\n"
     ]
    },
    {
     "name": "stderr",
     "output_type": "stream",
     "text": [
      "C:\\Users\\PMLS\\AppData\\Local\\Temp\\ipykernel_10124\\3810731232.py:7: DeprecationWarning: Calling np.sum(generator) is deprecated, and in the future will give a different result. Use np.sum(np.fromiter(generator)) or the python sum builtin instead.\n",
      "  result = np.sum(np.matmul(matrices[i], vectors[i]) for i in range(p))\n"
     ]
    }
   ],
   "source": [
    "p = 5\n",
    "n = 3\n",
    "\n",
    "matrices = [np.random.rand(n, n) for _ in range(p)]\n",
    "vectors = [np.random.rand(n, 1) for _ in range(p)]\n",
    "\n",
    "result = np.sum(np.matmul(matrices[i], vectors[i]) for i in range(p))\n",
    "\n",
    "print(result)"
   ]
  },
  {
   "cell_type": "markdown",
   "id": "158f9945",
   "metadata": {},
   "source": [
    "#### 87. Consider a 16x16 array, how to get the block-sum (block size is 4x4)? "
   ]
  },
  {
   "cell_type": "code",
   "execution_count": null,
   "id": "5b7b447f",
   "metadata": {},
   "outputs": [],
   "source": []
  },
  {
   "cell_type": "markdown",
   "id": "2e0ad860",
   "metadata": {},
   "source": [
    "#### 88. How to implement the Game of Life using numpy arrays?"
   ]
  },
  {
   "cell_type": "code",
   "execution_count": null,
   "id": "744b2920",
   "metadata": {},
   "outputs": [],
   "source": []
  },
  {
   "cell_type": "markdown",
   "id": "69a892fa",
   "metadata": {},
   "source": [
    "#### 89. How to get the n largest values of an array"
   ]
  },
  {
   "cell_type": "code",
   "execution_count": 32,
   "id": "21b2bd48",
   "metadata": {},
   "outputs": [
    {
     "name": "stdout",
     "output_type": "stream",
     "text": [
      "[9995 9996 9997 9999 9998]\n"
     ]
    }
   ],
   "source": [
    "arr = np.arange(10000)\n",
    "np.random.shuffle(arr)\n",
    "n = 5\n",
    "\n",
    "indices = np.argpartition(arr, -n)[-n:]\n",
    "\n",
    "largest_values = arr[indices]\n",
    "print(largest_values)"
   ]
  },
  {
   "cell_type": "markdown",
   "id": "b55ccacc",
   "metadata": {},
   "source": [
    "#### 90. Given an arbitrary number of vectors, build the cartesian product (every combinations of every item) "
   ]
  },
  {
   "cell_type": "code",
   "execution_count": null,
   "id": "d9941952",
   "metadata": {},
   "outputs": [],
   "source": []
  },
  {
   "cell_type": "markdown",
   "id": "89187a23",
   "metadata": {},
   "source": [
    "#### 91. How to create a record array from a regular array?"
   ]
  },
  {
   "cell_type": "code",
   "execution_count": null,
   "id": "bccf1397",
   "metadata": {},
   "outputs": [],
   "source": []
  },
  {
   "cell_type": "markdown",
   "id": "aa70d4ca",
   "metadata": {},
   "source": [
    "#### 92. Consider a large vector Z, compute Z to the power of 3 using 3 different methods"
   ]
  },
  {
   "cell_type": "code",
   "execution_count": null,
   "id": "f5c3ecf2",
   "metadata": {},
   "outputs": [],
   "source": []
  },
  {
   "cell_type": "markdown",
   "id": "5f79dd00",
   "metadata": {},
   "source": [
    "#### 93. Consider two arrays A and B of shape (8,3) and (2,2). How to find rows of A that contain elements of each row of B regardless of the order of the elements in B?"
   ]
  },
  {
   "cell_type": "code",
   "execution_count": 40,
   "id": "20c105b2",
   "metadata": {},
   "outputs": [
    {
     "name": "stdout",
     "output_type": "stream",
     "text": [
      "Array A:\n",
      "[[1 2 3]\n",
      " [4 5 6]\n",
      " [7 8 9]\n",
      " ...\n",
      " [9 7 8]\n",
      " [2 3 1]\n",
      " [5 6 4]]\n",
      "\n",
      "Array B:\n",
      "[[1 2]\n",
      " [4 5]]\n",
      "\n",
      "Rows of A containing elements of each row of B (regardless of order):\n",
      "[[1 2 3]\n",
      " [4 5 6]\n",
      " [3 1 2]\n",
      " [6 4 5]\n",
      " [2 3 1]\n",
      " [5 6 4]]\n"
     ]
    }
   ],
   "source": [
    "import numpy as np\n",
    "\n",
    "A = np.array([[1, 2, 3],\n",
    "              [4, 5, 6],\n",
    "              [7, 8, 9],\n",
    "              [3, 1, 2],\n",
    "              [6, 4, 5],\n",
    "              [9, 7, 8],\n",
    "              [2, 3, 1],\n",
    "              [5, 6, 4]])\n",
    "\n",
    "B = np.array([[1, 2],\n",
    "              [4, 5]])\n",
    "\n",
    "result_rows = []\n",
    "for row in A:\n",
    "    for b_row in B:\n",
    "        if all(element in row for element in b_row):\n",
    "            result_rows.append(row)\n",
    "            break\n",
    "\n",
    "result_rows_of_A = np.array(result_rows)\n",
    "\n",
    "print(\"Array A:\")\n",
    "print(A)\n",
    "print(\"\\nArray B:\")\n",
    "print(B)\n",
    "print(\"\\nRows of A containing elements of each row of B (regardless of order):\")\n",
    "print(result_rows_of_A)\n"
   ]
  },
  {
   "cell_type": "markdown",
   "id": "a80570cd",
   "metadata": {},
   "source": [
    "#### 94. Considering a 10x3 matrix, extract rows with unequal values (e.g. [2,2,3])"
   ]
  },
  {
   "cell_type": "code",
   "execution_count": 41,
   "id": "84db8de1",
   "metadata": {},
   "outputs": [
    {
     "data": {
      "text/plain": [
       "(array([[4, 1, 0],\n",
       "        [2, 3, 3],\n",
       "        [2, 2, 2],\n",
       "        ...,\n",
       "        [1, 4, 4],\n",
       "        [1, 3, 0],\n",
       "        [0, 1, 4]]),\n",
       " array([[4, 1, 0],\n",
       "        [2, 3, 0],\n",
       "        [1, 3, 4],\n",
       "        [1, 3, 0],\n",
       "        [0, 1, 4]]))"
      ]
     },
     "execution_count": 41,
     "metadata": {},
     "output_type": "execute_result"
    }
   ],
   "source": [
    "arr = np.random.randint(0,5,(10,3))\n",
    "output = arr[np.apply_along_axis(lambda row: len(set(row)) == len(row), 1, arr)]\n",
    "arr, output"
   ]
  },
  {
   "cell_type": "markdown",
   "id": "ba154f43",
   "metadata": {},
   "source": [
    "#### 95. Convert a vector of ints into a matrix binary representation"
   ]
  },
  {
   "cell_type": "code",
   "execution_count": null,
   "id": "1e72b73c",
   "metadata": {},
   "outputs": [],
   "source": []
  },
  {
   "cell_type": "markdown",
   "id": "420e2343",
   "metadata": {},
   "source": [
    "#### 96. Given a two dimensional array, how to extract unique rows?"
   ]
  },
  {
   "cell_type": "code",
   "execution_count": 43,
   "id": "4680dfd0",
   "metadata": {},
   "outputs": [
    {
     "data": {
      "text/plain": [
       "array([[1, 2, 3],\n",
       "       [4, 5, 6],\n",
       "       [7, 8, 9]])"
      ]
     },
     "execution_count": 43,
     "metadata": {},
     "output_type": "execute_result"
    }
   ],
   "source": [
    "array = np.array([[1, 2, 3],\n",
    "                  [4, 5, 6],\n",
    "                  [1, 2, 3],\n",
    "                  [7, 8, 9],\n",
    "                  [4, 5, 6]])\n",
    "unique_rows = np.unique(array, axis=0)\n",
    "unique_rows"
   ]
  },
  {
   "cell_type": "markdown",
   "id": "89fef2f3",
   "metadata": {},
   "source": [
    "#### 97. Considering 2 vectors A & B, write the einsum equivalent of inner, outer, sum, and mul function"
   ]
  },
  {
   "cell_type": "code",
   "execution_count": 44,
   "id": "bb9c14b2",
   "metadata": {},
   "outputs": [
    {
     "name": "stdout",
     "output_type": "stream",
     "text": [
      "Sum of elements of A: 5.808074964716228\n",
      "Element-wise multiplication: [0.0575917  0.30152033 0.14139266 0.51945636 0.48995243 0.2567764\n",
      " 0.74106744 0.12256495 0.27195054 0.08611   ]\n",
      "Inner product: 2.988382800616216\n",
      "Outer product:\n",
      " [[0.0575917  0.22406599 0.33795377 0.39978969 0.28585418 0.47472541\n",
      "  0.5182032  0.1186856  0.27419888 0.13993272]\n",
      " [0.0774998  0.30152033 0.45477644 0.53798759 0.38466724 0.63882681\n",
      "  0.69733386 0.15971242 0.36898299 0.18830417]\n",
      " [0.02409514 0.09374444 0.14139266 0.16726349 0.1195953  0.19861499\n",
      "  0.21680518 0.04965553 0.11471897 0.05854487]\n",
      " [0.07483028 0.29113433 0.43911146 0.51945636 0.37141721 0.61682214\n",
      "  0.67331388 0.15421105 0.3562732  0.18181795]\n",
      " [0.09871184 0.38404782 0.57925083 0.68523725 0.48995243 0.81367663\n",
      "  0.88819733 0.20342644 0.46997532 0.23984389]\n",
      " [0.03115104 0.12119608 0.18279736 0.21624408 0.15461697 0.2567764\n",
      "  0.2802933  0.0641964  0.14831269 0.07568885]\n",
      " [0.08236023 0.3204303  0.48329793 0.5717277  0.40879181 0.6788911\n",
      "  0.74106744 0.16972885 0.39212391 0.20011375]\n",
      " [0.05947414 0.23138979 0.3490001  0.41285719 0.29519758 0.49024224\n",
      "  0.53514115 0.12256495 0.28316133 0.14450655]\n",
      " [0.05711947 0.22222872 0.33518266 0.39651154 0.28351026 0.47083281\n",
      "  0.5139541  0.11771242 0.27195054 0.13878532]\n",
      " [0.03544004 0.13788285 0.20796565 0.24601744 0.17590527 0.29213042\n",
      "  0.31888522 0.07303522 0.16873298 0.08611   ]]\n"
     ]
    }
   ],
   "source": [
    "A = np.random.uniform(0,1,10)\n",
    "B = np.random.uniform(0,1,10)\n",
    "\n",
    "sum_A = np.einsum('i->', A)\n",
    "print(\"Sum of elements of A:\", sum_A)\n",
    "\n",
    "elementwise_multiplication = np.einsum('i,i->i', A, B)\n",
    "print(\"Element-wise multiplication:\", elementwise_multiplication)\n",
    "\n",
    "inner_product = np.einsum('i,i', A, B)\n",
    "print(\"Inner product:\", inner_product)\n",
    "\n",
    "outer_product = np.einsum('i,j->ij', A, B)\n",
    "print(\"Outer product:\\n\", outer_product)"
   ]
  },
  {
   "cell_type": "markdown",
   "id": "7ad5cc5f",
   "metadata": {},
   "source": [
    "#### 98. Considering a path described by two vectors (X,Y), how to sample it using equidistant samples?"
   ]
  },
  {
   "cell_type": "code",
   "execution_count": null,
   "id": "78abc790",
   "metadata": {},
   "outputs": [],
   "source": []
  },
  {
   "cell_type": "markdown",
   "id": "2b69272e",
   "metadata": {},
   "source": [
    "#### 99. Given an integer n and a 2D array X, select from X the rows which can be interpreted as draws from a multinomial distribution with n degrees, i.e., the rows which only contain integers and which sum to n."
   ]
  },
  {
   "cell_type": "code",
   "execution_count": null,
   "id": "051360c8",
   "metadata": {},
   "outputs": [],
   "source": []
  },
  {
   "cell_type": "code",
   "execution_count": null,
   "id": "8d7037cf",
   "metadata": {},
   "outputs": [],
   "source": []
  },
  {
   "cell_type": "markdown",
   "id": "59ab5516",
   "metadata": {},
   "source": [
    "#### 100. Compute bootstrapped 95% confidence intervals for the mean of a 1D array X (i.e., resample the elements of an array with replacement N times, compute the mean of each sample, and then compute percentiles over the means)."
   ]
  },
  {
   "cell_type": "code",
   "execution_count": null,
   "id": "0e5acc01",
   "metadata": {},
   "outputs": [],
   "source": []
  }
 ],
 "metadata": {
  "kernelspec": {
   "display_name": "Python 3 (ipykernel)",
   "language": "python",
   "name": "python3"
  },
  "language_info": {
   "codemirror_mode": {
    "name": "ipython",
    "version": 3
   },
   "file_extension": ".py",
   "mimetype": "text/x-python",
   "name": "python",
   "nbconvert_exporter": "python",
   "pygments_lexer": "ipython3",
   "version": "3.9.19"
  }
 },
 "nbformat": 4,
 "nbformat_minor": 5
}
